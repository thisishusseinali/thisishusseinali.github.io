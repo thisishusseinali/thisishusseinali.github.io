{
 "cells": [
  {
   "cell_type": "code",
   "execution_count": 1,
   "id": "c971c7c4-2a25-40eb-a3da-feeac2b6a1e5",
   "metadata": {},
   "outputs": [],
   "source": [
    "import numpy\n",
    "import pandas\n",
    "import matplotlib\n",
    "import seaborn"
   ]
  },
  {
   "cell_type": "code",
   "execution_count": 2,
   "id": "4791ab2c-6258-4699-a37c-3093060a337e",
   "metadata": {},
   "outputs": [
    {
     "data": {
      "text/html": [
       "<div>\n",
       "<style scoped>\n",
       "    .dataframe tbody tr th:only-of-type {\n",
       "        vertical-align: middle;\n",
       "    }\n",
       "\n",
       "    .dataframe tbody tr th {\n",
       "        vertical-align: top;\n",
       "    }\n",
       "\n",
       "    .dataframe thead th {\n",
       "        text-align: right;\n",
       "    }\n",
       "</style>\n",
       "<table border=\"1\" class=\"dataframe\">\n",
       "  <thead>\n",
       "    <tr style=\"text-align: right;\">\n",
       "      <th></th>\n",
       "      <th>Invoice ID</th>\n",
       "      <th>Branch</th>\n",
       "      <th>Yangon</th>\n",
       "      <th>Naypyitaw</th>\n",
       "      <th>Mandalay</th>\n",
       "      <th>Customer type</th>\n",
       "      <th>Gender</th>\n",
       "      <th>Product line</th>\n",
       "      <th>Unit price</th>\n",
       "      <th>Quantity</th>\n",
       "      <th>Tax 5%</th>\n",
       "      <th>Total</th>\n",
       "      <th>Date</th>\n",
       "      <th>Time</th>\n",
       "      <th>Payment</th>\n",
       "      <th>Rating</th>\n",
       "    </tr>\n",
       "  </thead>\n",
       "  <tbody>\n",
       "    <tr>\n",
       "      <th>0</th>\n",
       "      <td>750-67-8428</td>\n",
       "      <td>A</td>\n",
       "      <td>1</td>\n",
       "      <td>0</td>\n",
       "      <td>0</td>\n",
       "      <td>Normal</td>\n",
       "      <td>Male</td>\n",
       "      <td>Health and beauty</td>\n",
       "      <td>74.69</td>\n",
       "      <td>7</td>\n",
       "      <td>26.1415</td>\n",
       "      <td>NaN</td>\n",
       "      <td>1/5/2019</td>\n",
       "      <td>13:08</td>\n",
       "      <td>Ewallet</td>\n",
       "      <td>9.1</td>\n",
       "    </tr>\n",
       "    <tr>\n",
       "      <th>1</th>\n",
       "      <td>226-31-3081</td>\n",
       "      <td>C</td>\n",
       "      <td>0</td>\n",
       "      <td>1</td>\n",
       "      <td>0</td>\n",
       "      <td>Normal</td>\n",
       "      <td>Male</td>\n",
       "      <td>Electronic accessories</td>\n",
       "      <td>15.28</td>\n",
       "      <td>5</td>\n",
       "      <td>3.8200</td>\n",
       "      <td>80.2200</td>\n",
       "      <td>3/8/2019</td>\n",
       "      <td>10:29</td>\n",
       "      <td>Cash</td>\n",
       "      <td>9.6</td>\n",
       "    </tr>\n",
       "    <tr>\n",
       "      <th>2</th>\n",
       "      <td>631-41-3108</td>\n",
       "      <td>A</td>\n",
       "      <td>1</td>\n",
       "      <td>0</td>\n",
       "      <td>0</td>\n",
       "      <td>Normal</td>\n",
       "      <td>Male</td>\n",
       "      <td>Home and lifestyle</td>\n",
       "      <td>46.33</td>\n",
       "      <td>7</td>\n",
       "      <td>16.2155</td>\n",
       "      <td>340.5255</td>\n",
       "      <td>3/3/2019</td>\n",
       "      <td>13:23</td>\n",
       "      <td>Credit card</td>\n",
       "      <td>7.4</td>\n",
       "    </tr>\n",
       "    <tr>\n",
       "      <th>3</th>\n",
       "      <td>123-19-1176</td>\n",
       "      <td>A</td>\n",
       "      <td>1</td>\n",
       "      <td>0</td>\n",
       "      <td>0</td>\n",
       "      <td>Normal</td>\n",
       "      <td>Male</td>\n",
       "      <td>Health and beauty</td>\n",
       "      <td>58.22</td>\n",
       "      <td>8</td>\n",
       "      <td>NaN</td>\n",
       "      <td>489.0480</td>\n",
       "      <td>1/27/2019</td>\n",
       "      <td>8 - 30 PM</td>\n",
       "      <td>Ewallet</td>\n",
       "      <td>8.4</td>\n",
       "    </tr>\n",
       "    <tr>\n",
       "      <th>4</th>\n",
       "      <td>373-73-7910</td>\n",
       "      <td>A</td>\n",
       "      <td>1</td>\n",
       "      <td>0</td>\n",
       "      <td>0</td>\n",
       "      <td>Normal</td>\n",
       "      <td>Male</td>\n",
       "      <td>Sports and travel</td>\n",
       "      <td>86.31</td>\n",
       "      <td>7</td>\n",
       "      <td>30.2085</td>\n",
       "      <td>634.3785</td>\n",
       "      <td>2/8/2019</td>\n",
       "      <td>10:37</td>\n",
       "      <td>Ewallet</td>\n",
       "      <td>5.3</td>\n",
       "    </tr>\n",
       "  </tbody>\n",
       "</table>\n",
       "</div>"
      ],
      "text/plain": [
       "    Invoice ID Branch  Yangon  Naypyitaw  Mandalay Customer type Gender  \\\n",
       "0  750-67-8428      A       1          0         0        Normal   Male   \n",
       "1  226-31-3081      C       0          1         0        Normal   Male   \n",
       "2  631-41-3108      A       1          0         0        Normal   Male   \n",
       "3  123-19-1176      A       1          0         0        Normal   Male   \n",
       "4  373-73-7910      A       1          0         0        Normal   Male   \n",
       "\n",
       "             Product line Unit price  Quantity   Tax 5%     Total       Date  \\\n",
       "0       Health and beauty      74.69         7  26.1415       NaN   1/5/2019   \n",
       "1  Electronic accessories      15.28         5   3.8200   80.2200   3/8/2019   \n",
       "2      Home and lifestyle      46.33         7  16.2155  340.5255   3/3/2019   \n",
       "3       Health and beauty      58.22         8      NaN  489.0480  1/27/2019   \n",
       "4       Sports and travel      86.31         7  30.2085  634.3785   2/8/2019   \n",
       "\n",
       "        Time      Payment  Rating  \n",
       "0      13:08      Ewallet     9.1  \n",
       "1      10:29         Cash     9.6  \n",
       "2      13:23  Credit card     7.4  \n",
       "3  8 - 30 PM      Ewallet     8.4  \n",
       "4      10:37      Ewallet     5.3  "
      ]
     },
     "execution_count": 2,
     "metadata": {},
     "output_type": "execute_result"
    }
   ],
   "source": [
    "sales=pandas.read_csv(\"/home/hussein-ali/Documents/eCODE/Supermarket Sales/data/sales-data.csv\")\n",
    "sales.head()"
   ]
  },
  {
   "cell_type": "code",
   "execution_count": 3,
   "id": "9bd08de5-7357-43e5-a92e-bbc7cf769df0",
   "metadata": {},
   "outputs": [
    {
     "name": "stdout",
     "output_type": "stream",
     "text": [
      "<class 'pandas.core.frame.DataFrame'>\n",
      "RangeIndex: 1006 entries, 0 to 1005\n",
      "Data columns (total 16 columns):\n",
      " #   Column         Non-Null Count  Dtype  \n",
      "---  ------         --------------  -----  \n",
      " 0   Invoice ID     1006 non-null   object \n",
      " 1   Branch         1006 non-null   object \n",
      " 2   Yangon         1006 non-null   int64  \n",
      " 3   Naypyitaw      1006 non-null   int64  \n",
      " 4   Mandalay       1006 non-null   int64  \n",
      " 5   Customer type  1006 non-null   object \n",
      " 6   Gender         1006 non-null   object \n",
      " 7   Product line   1006 non-null   object \n",
      " 8   Unit price     1006 non-null   object \n",
      " 9   Quantity       1006 non-null   int64  \n",
      " 10  Tax 5%         997 non-null    float64\n",
      " 11  Total          1003 non-null   float64\n",
      " 12  Date           1006 non-null   object \n",
      " 13  Time           1006 non-null   object \n",
      " 14  Payment        1006 non-null   object \n",
      " 15  Rating         1006 non-null   float64\n",
      "dtypes: float64(3), int64(4), object(9)\n",
      "memory usage: 125.9+ KB\n"
     ]
    }
   ],
   "source": [
    "sales.info()"
   ]
  },
  {
   "cell_type": "code",
   "execution_count": 4,
   "id": "3aa7f71d-328a-43bb-b745-b85933d6084f",
   "metadata": {},
   "outputs": [
    {
     "data": {
      "text/plain": [
       "(1006, 16)"
      ]
     },
     "execution_count": 4,
     "metadata": {},
     "output_type": "execute_result"
    }
   ],
   "source": [
    "sales.shape"
   ]
  },
  {
   "cell_type": "code",
   "execution_count": 5,
   "id": "c57c41f8-cd46-40c5-8f26-252232aa188d",
   "metadata": {},
   "outputs": [
    {
     "data": {
      "text/plain": [
       "0    NaN\n",
       "14   NaN\n",
       "37   NaN\n",
       "Name: Total, dtype: float64"
      ]
     },
     "execution_count": 5,
     "metadata": {},
     "output_type": "execute_result"
    }
   ],
   "source": [
    "sales[\"Total\"][sales[\"Total\"].isna()]"
   ]
  },
  {
   "cell_type": "code",
   "execution_count": 6,
   "id": "aaae75f9-7c67-47b0-b133-ae7d830582c5",
   "metadata": {},
   "outputs": [
    {
     "data": {
      "text/plain": [
       "3     NaN\n",
       "8     NaN\n",
       "86    NaN\n",
       "92    NaN\n",
       "97    NaN\n",
       "629   NaN\n",
       "830   NaN\n",
       "881   NaN\n",
       "903   NaN\n",
       "Name: Tax 5%, dtype: float64"
      ]
     },
     "execution_count": 6,
     "metadata": {},
     "output_type": "execute_result"
    }
   ],
   "source": [
    "sales[\"Tax 5%\"][sales[\"Tax 5%\"].isna()]"
   ]
  },
  {
   "cell_type": "code",
   "execution_count": 7,
   "id": "8af1093f-3ec2-4d12-af54-a8cd8f23f839",
   "metadata": {},
   "outputs": [],
   "source": [
    "sales[\"Unit price\"]  = pandas.to_numeric(sales[\"Unit price\"],errors=\"coerce\")"
   ]
  },
  {
   "cell_type": "code",
   "execution_count": 8,
   "id": "9d1e5ebf-c205-4c6a-97eb-e9d92b353fbc",
   "metadata": {},
   "outputs": [],
   "source": [
    "sales.loc[0,\"Total\"] = sales.loc[0][\"Quantity\"]  * sales.loc[0][\"Unit price\"]+sales.loc[0][\"Tax 5%\"]\n",
    "sales.loc[14,\"Total\"]= sales.loc[14][\"Quantity\"] * sales.loc[14][\"Unit price\"]+sales.loc[14][\"Tax 5%\"]\n",
    "sales.loc[37,\"Total\"]= sales.loc[37][\"Quantity\"] * sales.loc[37][\"Unit price\"]+sales.loc[37][\"Tax 5%\"]"
   ]
  },
  {
   "cell_type": "code",
   "execution_count": 9,
   "id": "270860b7-be74-4fc3-bc37-8acf1b5a8b7d",
   "metadata": {},
   "outputs": [],
   "source": [
    "sales.loc[3,\"Tax 5%\"]   = (sales.loc[3][\"Total\"])  - (sales.loc[3][\"Quantity\"]  * sales.loc[3][\"Unit price\"]  )\n",
    "sales.loc[8,\"Tax 5%\"]   = (sales.loc[8][\"Total\"])  - (sales.loc[8][\"Quantity\"]  * sales.loc[8][\"Unit price\"]  )\n",
    "sales.loc[86,\"Tax 5%\"]  = (sales.loc[86][\"Total\"]) - (sales.loc[86][\"Quantity\"] * sales.loc[86][\"Unit price\"] )\n",
    "sales.loc[92,\"Tax 5%\"]  = (sales.loc[92][\"Total\"]) - (sales.loc[92][\"Quantity\"] * sales.loc[92][\"Unit price\"] )"
   ]
  },
  {
   "cell_type": "code",
   "execution_count": 10,
   "id": "ac361c50-1603-436b-af75-34cc1700060e",
   "metadata": {},
   "outputs": [],
   "source": [
    "sales.drop(index=[97,629,830,881,903],inplace=True)"
   ]
  },
  {
   "cell_type": "code",
   "execution_count": 11,
   "id": "cdce357c-7100-4551-99d0-dedb1868bfcf",
   "metadata": {},
   "outputs": [
    {
     "name": "stdout",
     "output_type": "stream",
     "text": [
      "0.0\n",
      "0.0\n"
     ]
    }
   ],
   "source": [
    "print(sales[\"Total\"][sales[\"Total\"].isna()].sum())\n",
    "print(sales[\"Tax 5%\"][sales[\"Tax 5%\"].isna()].sum())"
   ]
  },
  {
   "cell_type": "code",
   "execution_count": 12,
   "id": "c6023dfe-f922-4592-9d94-aef6815df93f",
   "metadata": {},
   "outputs": [
    {
     "data": {
      "text/plain": [
       "Invoice ID       0\n",
       "Branch           0\n",
       "Yangon           0\n",
       "Naypyitaw        0\n",
       "Mandalay         0\n",
       "Customer type    0\n",
       "Gender           0\n",
       "Product line     0\n",
       "Unit price       0\n",
       "Quantity         0\n",
       "Tax 5%           0\n",
       "Total            0\n",
       "Date             0\n",
       "Time             0\n",
       "Payment          0\n",
       "Rating           0\n",
       "dtype: int64"
      ]
     },
     "execution_count": 12,
     "metadata": {},
     "output_type": "execute_result"
    }
   ],
   "source": [
    "sales.isna().sum()"
   ]
  },
  {
   "cell_type": "code",
   "execution_count": 13,
   "id": "7a122b30-a2e7-4d32-96ed-72977337da39",
   "metadata": {},
   "outputs": [
    {
     "data": {
      "text/plain": [
       "Invoice ID       0\n",
       "Branch           0\n",
       "Yangon           0\n",
       "Naypyitaw        0\n",
       "Mandalay         0\n",
       "Customer type    0\n",
       "Gender           0\n",
       "Product line     0\n",
       "Unit price       0\n",
       "Quantity         0\n",
       "Tax 5%           0\n",
       "Total            0\n",
       "Date             0\n",
       "Time             0\n",
       "Payment          0\n",
       "Rating           0\n",
       "dtype: int64"
      ]
     },
     "execution_count": 13,
     "metadata": {},
     "output_type": "execute_result"
    }
   ],
   "source": [
    "sales.isnull().sum()"
   ]
  },
  {
   "cell_type": "code",
   "execution_count": 14,
   "id": "7c2689a7-5f9e-41a1-a206-b55b05490e87",
   "metadata": {},
   "outputs": [
    {
     "data": {
      "text/plain": [
       "np.int64(6)"
      ]
     },
     "execution_count": 14,
     "metadata": {},
     "output_type": "execute_result"
    }
   ],
   "source": [
    "sales.duplicated().sum()"
   ]
  },
  {
   "cell_type": "code",
   "execution_count": 15,
   "id": "245cc174-e3b8-4dcc-8e80-5b900dbd810b",
   "metadata": {},
   "outputs": [],
   "source": [
    "sales = sales.drop_duplicates(keep=\"last\")"
   ]
  },
  {
   "cell_type": "code",
   "execution_count": 16,
   "id": "ec7cd4b7-e3a8-494b-9105-d9cfaec30b84",
   "metadata": {},
   "outputs": [
    {
     "data": {
      "text/plain": [
       "np.int64(0)"
      ]
     },
     "execution_count": 16,
     "metadata": {},
     "output_type": "execute_result"
    }
   ],
   "source": [
    "sales.duplicated().sum()"
   ]
  },
  {
   "cell_type": "code",
   "execution_count": 17,
   "id": "5dcde316-f98b-450a-af97-03cb60f77834",
   "metadata": {},
   "outputs": [
    {
     "name": "stdout",
     "output_type": "stream",
     "text": [
      "<class 'pandas.core.frame.DataFrame'>\n",
      "Index: 995 entries, 0 to 1005\n",
      "Data columns (total 16 columns):\n",
      " #   Column         Non-Null Count  Dtype  \n",
      "---  ------         --------------  -----  \n",
      " 0   Invoice ID     995 non-null    object \n",
      " 1   Branch         995 non-null    object \n",
      " 2   Yangon         995 non-null    int64  \n",
      " 3   Naypyitaw      995 non-null    int64  \n",
      " 4   Mandalay       995 non-null    int64  \n",
      " 5   Customer type  995 non-null    object \n",
      " 6   Gender         995 non-null    object \n",
      " 7   Product line   995 non-null    object \n",
      " 8   Unit price     995 non-null    float64\n",
      " 9   Quantity       995 non-null    int64  \n",
      " 10  Tax 5%         995 non-null    float64\n",
      " 11  Total          995 non-null    float64\n",
      " 12  Date           995 non-null    object \n",
      " 13  Time           995 non-null    object \n",
      " 14  Payment        995 non-null    object \n",
      " 15  Rating         995 non-null    float64\n",
      "dtypes: float64(4), int64(4), object(8)\n",
      "memory usage: 132.1+ KB\n"
     ]
    }
   ],
   "source": [
    "sales.info()"
   ]
  },
  {
   "cell_type": "code",
   "execution_count": 18,
   "id": "3bb9c759-a723-4262-8565-8b6880ad2c98",
   "metadata": {},
   "outputs": [
    {
     "data": {
      "text/plain": [
       "Branch\n",
       "A    337\n",
       "B    332\n",
       "C    326\n",
       "Name: count, dtype: int64"
      ]
     },
     "execution_count": 18,
     "metadata": {},
     "output_type": "execute_result"
    }
   ],
   "source": [
    "sales[\"Branch\"].value_counts()"
   ]
  },
  {
   "cell_type": "code",
   "execution_count": 19,
   "id": "4faf1ff3-aad4-4990-98f0-dd292a39cd26",
   "metadata": {},
   "outputs": [
    {
     "data": {
      "text/plain": [
       "Customer type\n",
       "Normal     509\n",
       "Member     458\n",
       "-           27\n",
       "Memberr      1\n",
       "Name: count, dtype: int64"
      ]
     },
     "execution_count": 19,
     "metadata": {},
     "output_type": "execute_result"
    }
   ],
   "source": [
    "sales[\"Customer type\"].value_counts()"
   ]
  },
  {
   "cell_type": "code",
   "execution_count": 20,
   "id": "7292f7c2-fa00-4daa-81ce-3d4d9dea839b",
   "metadata": {},
   "outputs": [
    {
     "name": "stderr",
     "output_type": "stream",
     "text": [
      "/tmp/ipykernel_1922/2418137218.py:1: FutureWarning: Setting an item of incompatible dtype is deprecated and will raise an error in a future version of pandas. Value 'Member' has dtype incompatible with int64, please explicitly cast to a compatible dtype first.\n",
      "  sales.loc[sales[\"Customer type\"]==\"Memberr\"] = \"Member\"\n",
      "/tmp/ipykernel_1922/2418137218.py:1: FutureWarning: Setting an item of incompatible dtype is deprecated and will raise an error in a future version of pandas. Value 'Member' has dtype incompatible with int64, please explicitly cast to a compatible dtype first.\n",
      "  sales.loc[sales[\"Customer type\"]==\"Memberr\"] = \"Member\"\n",
      "/tmp/ipykernel_1922/2418137218.py:1: FutureWarning: Setting an item of incompatible dtype is deprecated and will raise an error in a future version of pandas. Value 'Member' has dtype incompatible with int64, please explicitly cast to a compatible dtype first.\n",
      "  sales.loc[sales[\"Customer type\"]==\"Memberr\"] = \"Member\"\n",
      "/tmp/ipykernel_1922/2418137218.py:1: FutureWarning: Setting an item of incompatible dtype is deprecated and will raise an error in a future version of pandas. Value 'Member' has dtype incompatible with float64, please explicitly cast to a compatible dtype first.\n",
      "  sales.loc[sales[\"Customer type\"]==\"Memberr\"] = \"Member\"\n",
      "/tmp/ipykernel_1922/2418137218.py:1: FutureWarning: Setting an item of incompatible dtype is deprecated and will raise an error in a future version of pandas. Value 'Member' has dtype incompatible with int64, please explicitly cast to a compatible dtype first.\n",
      "  sales.loc[sales[\"Customer type\"]==\"Memberr\"] = \"Member\"\n",
      "/tmp/ipykernel_1922/2418137218.py:1: FutureWarning: Setting an item of incompatible dtype is deprecated and will raise an error in a future version of pandas. Value 'Member' has dtype incompatible with float64, please explicitly cast to a compatible dtype first.\n",
      "  sales.loc[sales[\"Customer type\"]==\"Memberr\"] = \"Member\"\n",
      "/tmp/ipykernel_1922/2418137218.py:1: FutureWarning: Setting an item of incompatible dtype is deprecated and will raise an error in a future version of pandas. Value 'Member' has dtype incompatible with float64, please explicitly cast to a compatible dtype first.\n",
      "  sales.loc[sales[\"Customer type\"]==\"Memberr\"] = \"Member\"\n",
      "/tmp/ipykernel_1922/2418137218.py:1: FutureWarning: Setting an item of incompatible dtype is deprecated and will raise an error in a future version of pandas. Value 'Member' has dtype incompatible with float64, please explicitly cast to a compatible dtype first.\n",
      "  sales.loc[sales[\"Customer type\"]==\"Memberr\"] = \"Member\"\n"
     ]
    }
   ],
   "source": [
    "sales.loc[sales[\"Customer type\"]==\"Memberr\"] = \"Member\""
   ]
  },
  {
   "cell_type": "code",
   "execution_count": 21,
   "id": "d332427f-cce8-4a5d-80b0-18095db0a100",
   "metadata": {},
   "outputs": [],
   "source": [
    "sales.loc[sales[\"Customer type\"]==\"-\"] = \"Member\" "
   ]
  },
  {
   "cell_type": "code",
   "execution_count": 22,
   "id": "7117e3ab-aa49-4dfb-81ce-74bbf06ee3e2",
   "metadata": {},
   "outputs": [
    {
     "data": {
      "text/plain": [
       "Gender\n",
       "Male      505\n",
       "Female    462\n",
       "Member     28\n",
       "Name: count, dtype: int64"
      ]
     },
     "execution_count": 22,
     "metadata": {},
     "output_type": "execute_result"
    }
   ],
   "source": [
    "sales[\"Gender\"].value_counts()"
   ]
  },
  {
   "cell_type": "code",
   "execution_count": 23,
   "id": "9b79bf23-d021-4bb9-bbf8-d1c3f64c54fb",
   "metadata": {},
   "outputs": [],
   "source": [
    "sales.drop(index=sales.loc[sales[\"Gender\"]==\"Member\"].index,inplace=True)"
   ]
  },
  {
   "cell_type": "code",
   "execution_count": 24,
   "id": "2a139a7c-2407-400b-a121-c7132270d5c2",
   "metadata": {},
   "outputs": [
    {
     "data": {
      "text/plain": [
       "Product line\n",
       "Fashion accessories       171\n",
       "Food and beverages        168\n",
       "Electronic accessories    164\n",
       "Sports and travel         162\n",
       "Home and lifestyle        156\n",
       "Health and beauty         146\n",
       "Name: count, dtype: int64"
      ]
     },
     "execution_count": 24,
     "metadata": {},
     "output_type": "execute_result"
    }
   ],
   "source": [
    "sales[\"Product line\"].value_counts()"
   ]
  },
  {
   "cell_type": "code",
   "execution_count": 25,
   "id": "04a1f00f-00f6-4070-a5a8-fae318e493e7",
   "metadata": {},
   "outputs": [],
   "source": [
    "sales[\"Date\"]=pandas.to_datetime(sales[\"Date\"],format=\"mixed\").dt.date"
   ]
  },
  {
   "cell_type": "code",
   "execution_count": 26,
   "id": "a346be76-87ed-46ec-b6ee-3346de5fb402",
   "metadata": {},
   "outputs": [
    {
     "name": "stdout",
     "output_type": "stream",
     "text": [
      "2019-01-01 2019-03-30\n"
     ]
    }
   ],
   "source": [
    "print(sales[\"Date\"].min(),sales[\"Date\"].max())"
   ]
  },
  {
   "cell_type": "code",
   "execution_count": 27,
   "id": "921a48e0-aa22-4076-98df-a6a9ee7259ef",
   "metadata": {},
   "outputs": [],
   "source": [
    "sales.loc[sales[\"Time\"]==\"8 - 30 PM\"] = \"08:30\""
   ]
  },
  {
   "cell_type": "code",
   "execution_count": 28,
   "id": "75a427e4-b359-43cc-99d5-ec8bd12ade53",
   "metadata": {},
   "outputs": [
    {
     "data": {
      "text/plain": [
       "0       13:08\n",
       "1       10:29\n",
       "2       13:23\n",
       "3       08:30\n",
       "4       10:37\n",
       "        ...  \n",
       "1001    14:30\n",
       "1002    11:32\n",
       "1003    10:41\n",
       "1004    12:44\n",
       "1005    20:07\n",
       "Name: Time, Length: 967, dtype: object"
      ]
     },
     "execution_count": 28,
     "metadata": {},
     "output_type": "execute_result"
    }
   ],
   "source": [
    "sales[\"Time\"]"
   ]
  },
  {
   "cell_type": "code",
   "execution_count": 29,
   "id": "71befa70-a7f5-4dca-bfc6-ba943aee7f76",
   "metadata": {},
   "outputs": [],
   "source": [
    "sales.drop(index=sales.loc[sales[\"Payment\"]==\"08:30\"].index,inplace=True)"
   ]
  },
  {
   "cell_type": "code",
   "execution_count": 30,
   "id": "84e78e6d-6205-4355-8b73-f0dcd03d633d",
   "metadata": {},
   "outputs": [
    {
     "data": {
      "text/plain": [
       "Payment\n",
       "Ewallet        334\n",
       "Cash           329\n",
       "Credit card    303\n",
       "Name: count, dtype: int64"
      ]
     },
     "execution_count": 30,
     "metadata": {},
     "output_type": "execute_result"
    }
   ],
   "source": [
    "sales[\"Payment\"].value_counts()"
   ]
  },
  {
   "cell_type": "code",
   "execution_count": 31,
   "id": "0c72b165-f782-4a65-a4b9-78965e3c88a2",
   "metadata": {},
   "outputs": [],
   "source": [
    "sales.loc[sales[\"Rating\"]==97.0,\"Rating\"]=sales[\"Rating\"].mean()"
   ]
  },
  {
   "cell_type": "code",
   "execution_count": 32,
   "id": "7de1a260-12fe-448d-b771-85a51d527bb5",
   "metadata": {},
   "outputs": [
    {
     "data": {
      "text/plain": [
       "Rating\n",
       "6.000000     26\n",
       "6.600000     23\n",
       "4.200000     22\n",
       "5.000000     21\n",
       "8.000000     21\n",
       "             ..\n",
       "8.100000     11\n",
       "4.000000     10\n",
       "4.600000      8\n",
       "10.000000     3\n",
       "7.052899      1\n",
       "Name: count, Length: 62, dtype: int64"
      ]
     },
     "execution_count": 32,
     "metadata": {},
     "output_type": "execute_result"
    }
   ],
   "source": [
    "sales[\"Rating\"].value_counts()"
   ]
  },
  {
   "cell_type": "code",
   "execution_count": 33,
   "id": "68dda5cd-5224-4cd4-b59e-82e41eabb343",
   "metadata": {},
   "outputs": [
    {
     "name": "stdout",
     "output_type": "stream",
     "text": [
      "4.0 10.0\n"
     ]
    }
   ],
   "source": [
    "print(sales[\"Rating\"].min(),sales[\"Rating\"].max())"
   ]
  },
  {
   "cell_type": "code",
   "execution_count": 34,
   "id": "75061761-2ca4-490d-8f25-7d8c2be40255",
   "metadata": {},
   "outputs": [
    {
     "data": {
      "text/plain": [
       "Index(['Invoice ID', 'Branch', 'Yangon', 'Naypyitaw', 'Mandalay',\n",
       "       'Customer type', 'Gender', 'Product line', 'Unit price', 'Quantity',\n",
       "       'Tax 5%', 'Total', 'Date', 'Time', 'Payment', 'Rating'],\n",
       "      dtype='object')"
      ]
     },
     "execution_count": 34,
     "metadata": {},
     "output_type": "execute_result"
    }
   ],
   "source": [
    "sales.columns"
   ]
  },
  {
   "cell_type": "code",
   "execution_count": 35,
   "id": "8289401c-110c-4d85-9b40-e57d0bf98336",
   "metadata": {},
   "outputs": [
    {
     "data": {
      "text/html": [
       "<div>\n",
       "<style scoped>\n",
       "    .dataframe tbody tr th:only-of-type {\n",
       "        vertical-align: middle;\n",
       "    }\n",
       "\n",
       "    .dataframe tbody tr th {\n",
       "        vertical-align: top;\n",
       "    }\n",
       "\n",
       "    .dataframe thead th {\n",
       "        text-align: right;\n",
       "    }\n",
       "</style>\n",
       "<table border=\"1\" class=\"dataframe\">\n",
       "  <thead>\n",
       "    <tr style=\"text-align: right;\">\n",
       "      <th></th>\n",
       "      <th>Invoice ID</th>\n",
       "      <th>Branch</th>\n",
       "      <th>Yangon</th>\n",
       "      <th>Naypyitaw</th>\n",
       "      <th>Mandalay</th>\n",
       "      <th>Customer type</th>\n",
       "      <th>Gender</th>\n",
       "      <th>Product line</th>\n",
       "      <th>Unit price</th>\n",
       "      <th>Quantity</th>\n",
       "      <th>Tax 5%</th>\n",
       "      <th>Total</th>\n",
       "      <th>Date</th>\n",
       "      <th>Time</th>\n",
       "      <th>Payment</th>\n",
       "      <th>Rating</th>\n",
       "    </tr>\n",
       "  </thead>\n",
       "  <tbody>\n",
       "    <tr>\n",
       "      <th>0</th>\n",
       "      <td>750-67-8428</td>\n",
       "      <td>A</td>\n",
       "      <td>1</td>\n",
       "      <td>0</td>\n",
       "      <td>0</td>\n",
       "      <td>Normal</td>\n",
       "      <td>Male</td>\n",
       "      <td>Health and beauty</td>\n",
       "      <td>74.69</td>\n",
       "      <td>7</td>\n",
       "      <td>26.1415</td>\n",
       "      <td>548.9715</td>\n",
       "      <td>2019-01-05</td>\n",
       "      <td>13:08</td>\n",
       "      <td>Ewallet</td>\n",
       "      <td>9.1</td>\n",
       "    </tr>\n",
       "    <tr>\n",
       "      <th>1</th>\n",
       "      <td>226-31-3081</td>\n",
       "      <td>C</td>\n",
       "      <td>0</td>\n",
       "      <td>1</td>\n",
       "      <td>0</td>\n",
       "      <td>Normal</td>\n",
       "      <td>Male</td>\n",
       "      <td>Electronic accessories</td>\n",
       "      <td>15.28</td>\n",
       "      <td>5</td>\n",
       "      <td>3.82</td>\n",
       "      <td>80.22</td>\n",
       "      <td>2019-03-08</td>\n",
       "      <td>10:29</td>\n",
       "      <td>Cash</td>\n",
       "      <td>9.6</td>\n",
       "    </tr>\n",
       "    <tr>\n",
       "      <th>2</th>\n",
       "      <td>631-41-3108</td>\n",
       "      <td>A</td>\n",
       "      <td>1</td>\n",
       "      <td>0</td>\n",
       "      <td>0</td>\n",
       "      <td>Normal</td>\n",
       "      <td>Male</td>\n",
       "      <td>Home and lifestyle</td>\n",
       "      <td>46.33</td>\n",
       "      <td>7</td>\n",
       "      <td>16.2155</td>\n",
       "      <td>340.5255</td>\n",
       "      <td>2019-03-03</td>\n",
       "      <td>13:23</td>\n",
       "      <td>Credit card</td>\n",
       "      <td>7.4</td>\n",
       "    </tr>\n",
       "    <tr>\n",
       "      <th>4</th>\n",
       "      <td>373-73-7910</td>\n",
       "      <td>A</td>\n",
       "      <td>1</td>\n",
       "      <td>0</td>\n",
       "      <td>0</td>\n",
       "      <td>Normal</td>\n",
       "      <td>Male</td>\n",
       "      <td>Sports and travel</td>\n",
       "      <td>86.31</td>\n",
       "      <td>7</td>\n",
       "      <td>30.2085</td>\n",
       "      <td>634.3785</td>\n",
       "      <td>2019-02-08</td>\n",
       "      <td>10:37</td>\n",
       "      <td>Ewallet</td>\n",
       "      <td>5.3</td>\n",
       "    </tr>\n",
       "    <tr>\n",
       "      <th>5</th>\n",
       "      <td>699-14-3026</td>\n",
       "      <td>C</td>\n",
       "      <td>0</td>\n",
       "      <td>1</td>\n",
       "      <td>0</td>\n",
       "      <td>Normal</td>\n",
       "      <td>Male</td>\n",
       "      <td>Electronic accessories</td>\n",
       "      <td>85.39</td>\n",
       "      <td>7</td>\n",
       "      <td>29.8865</td>\n",
       "      <td>627.6165</td>\n",
       "      <td>2019-03-25</td>\n",
       "      <td>18:30</td>\n",
       "      <td>Ewallet</td>\n",
       "      <td>4.1</td>\n",
       "    </tr>\n",
       "    <tr>\n",
       "      <th>...</th>\n",
       "      <td>...</td>\n",
       "      <td>...</td>\n",
       "      <td>...</td>\n",
       "      <td>...</td>\n",
       "      <td>...</td>\n",
       "      <td>...</td>\n",
       "      <td>...</td>\n",
       "      <td>...</td>\n",
       "      <td>...</td>\n",
       "      <td>...</td>\n",
       "      <td>...</td>\n",
       "      <td>...</td>\n",
       "      <td>...</td>\n",
       "      <td>...</td>\n",
       "      <td>...</td>\n",
       "      <td>...</td>\n",
       "    </tr>\n",
       "    <tr>\n",
       "      <th>1001</th>\n",
       "      <td>861-77-0145</td>\n",
       "      <td>C</td>\n",
       "      <td>0</td>\n",
       "      <td>1</td>\n",
       "      <td>0</td>\n",
       "      <td>Member</td>\n",
       "      <td>Male</td>\n",
       "      <td>Electronic accessories</td>\n",
       "      <td>81.97</td>\n",
       "      <td>10</td>\n",
       "      <td>40.985</td>\n",
       "      <td>860.685</td>\n",
       "      <td>2019-03-03</td>\n",
       "      <td>14:30</td>\n",
       "      <td>Cash</td>\n",
       "      <td>9.2</td>\n",
       "    </tr>\n",
       "    <tr>\n",
       "      <th>1002</th>\n",
       "      <td>479-26-8945</td>\n",
       "      <td>B</td>\n",
       "      <td>0</td>\n",
       "      <td>0</td>\n",
       "      <td>1</td>\n",
       "      <td>Member</td>\n",
       "      <td>Female</td>\n",
       "      <td>Sports and travel</td>\n",
       "      <td>16.49</td>\n",
       "      <td>2</td>\n",
       "      <td>1.649</td>\n",
       "      <td>34.629</td>\n",
       "      <td>2019-02-05</td>\n",
       "      <td>11:32</td>\n",
       "      <td>Ewallet</td>\n",
       "      <td>4.6</td>\n",
       "    </tr>\n",
       "    <tr>\n",
       "      <th>1003</th>\n",
       "      <td>210-67-5886</td>\n",
       "      <td>C</td>\n",
       "      <td>0</td>\n",
       "      <td>1</td>\n",
       "      <td>0</td>\n",
       "      <td>Member</td>\n",
       "      <td>Female</td>\n",
       "      <td>Health and beauty</td>\n",
       "      <td>98.21</td>\n",
       "      <td>3</td>\n",
       "      <td>14.7315</td>\n",
       "      <td>309.3615</td>\n",
       "      <td>2019-02-05</td>\n",
       "      <td>10:41</td>\n",
       "      <td>Credit card</td>\n",
       "      <td>7.8</td>\n",
       "    </tr>\n",
       "    <tr>\n",
       "      <th>1004</th>\n",
       "      <td>227-78-1148</td>\n",
       "      <td>B</td>\n",
       "      <td>0</td>\n",
       "      <td>0</td>\n",
       "      <td>1</td>\n",
       "      <td>Normal</td>\n",
       "      <td>Female</td>\n",
       "      <td>Fashion accessories</td>\n",
       "      <td>72.84</td>\n",
       "      <td>7</td>\n",
       "      <td>25.494</td>\n",
       "      <td>535.374</td>\n",
       "      <td>2019-02-15</td>\n",
       "      <td>12:44</td>\n",
       "      <td>Cash</td>\n",
       "      <td>8.4</td>\n",
       "    </tr>\n",
       "    <tr>\n",
       "      <th>1005</th>\n",
       "      <td>645-44-1170</td>\n",
       "      <td>A</td>\n",
       "      <td>1</td>\n",
       "      <td>0</td>\n",
       "      <td>0</td>\n",
       "      <td>Member</td>\n",
       "      <td>Male</td>\n",
       "      <td>Home and lifestyle</td>\n",
       "      <td>58.07</td>\n",
       "      <td>9</td>\n",
       "      <td>26.1315</td>\n",
       "      <td>548.7615</td>\n",
       "      <td>2019-01-19</td>\n",
       "      <td>20:07</td>\n",
       "      <td>Ewallet</td>\n",
       "      <td>4.3</td>\n",
       "    </tr>\n",
       "  </tbody>\n",
       "</table>\n",
       "<p>966 rows × 16 columns</p>\n",
       "</div>"
      ],
      "text/plain": [
       "       Invoice ID Branch Yangon Naypyitaw Mandalay Customer type  Gender  \\\n",
       "0     750-67-8428      A      1         0        0        Normal    Male   \n",
       "1     226-31-3081      C      0         1        0        Normal    Male   \n",
       "2     631-41-3108      A      1         0        0        Normal    Male   \n",
       "4     373-73-7910      A      1         0        0        Normal    Male   \n",
       "5     699-14-3026      C      0         1        0        Normal    Male   \n",
       "...           ...    ...    ...       ...      ...           ...     ...   \n",
       "1001  861-77-0145      C      0         1        0        Member    Male   \n",
       "1002  479-26-8945      B      0         0        1        Member  Female   \n",
       "1003  210-67-5886      C      0         1        0        Member  Female   \n",
       "1004  227-78-1148      B      0         0        1        Normal  Female   \n",
       "1005  645-44-1170      A      1         0        0        Member    Male   \n",
       "\n",
       "                Product line Unit price Quantity   Tax 5%     Total  \\\n",
       "0          Health and beauty      74.69        7  26.1415  548.9715   \n",
       "1     Electronic accessories      15.28        5     3.82     80.22   \n",
       "2         Home and lifestyle      46.33        7  16.2155  340.5255   \n",
       "4          Sports and travel      86.31        7  30.2085  634.3785   \n",
       "5     Electronic accessories      85.39        7  29.8865  627.6165   \n",
       "...                      ...        ...      ...      ...       ...   \n",
       "1001  Electronic accessories      81.97       10   40.985   860.685   \n",
       "1002       Sports and travel      16.49        2    1.649    34.629   \n",
       "1003       Health and beauty      98.21        3  14.7315  309.3615   \n",
       "1004     Fashion accessories      72.84        7   25.494   535.374   \n",
       "1005      Home and lifestyle      58.07        9  26.1315  548.7615   \n",
       "\n",
       "            Date   Time      Payment Rating  \n",
       "0     2019-01-05  13:08      Ewallet    9.1  \n",
       "1     2019-03-08  10:29         Cash    9.6  \n",
       "2     2019-03-03  13:23  Credit card    7.4  \n",
       "4     2019-02-08  10:37      Ewallet    5.3  \n",
       "5     2019-03-25  18:30      Ewallet    4.1  \n",
       "...          ...    ...          ...    ...  \n",
       "1001  2019-03-03  14:30         Cash    9.2  \n",
       "1002  2019-02-05  11:32      Ewallet    4.6  \n",
       "1003  2019-02-05  10:41  Credit card    7.8  \n",
       "1004  2019-02-15  12:44         Cash    8.4  \n",
       "1005  2019-01-19  20:07      Ewallet    4.3  \n",
       "\n",
       "[966 rows x 16 columns]"
      ]
     },
     "execution_count": 35,
     "metadata": {},
     "output_type": "execute_result"
    }
   ],
   "source": [
    "sales"
   ]
  },
  {
   "cell_type": "code",
   "execution_count": 36,
   "id": "f1e57816-a1d8-4c06-9e24-6116f6f989f0",
   "metadata": {},
   "outputs": [
    {
     "name": "stdout",
     "output_type": "stream",
     "text": [
      "Q1:126.29925 - Q3:470.44725 - IQR:344.148 - U:986.6692499999999 - L:-389.92274999999995 - Min:10.6785 - Max:1042.65\n"
     ]
    }
   ],
   "source": [
    "total_Q3 = sales[\"Total\"].quantile(0.75)\n",
    "total_Q1 = sales[\"Total\"].quantile(0.25)\n",
    "total_IQR= total_Q3-total_Q1\n",
    "total_U  = total_Q3 + (1.5*total_IQR) \n",
    "total_L  = total_Q1 - (1.5*total_IQR)\n",
    "total_Min = sales[\"Total\"].min()\n",
    "total_Max = sales[\"Total\"].max()\n",
    "print(\"Q1:{a} - Q3:{b} - IQR:{c} - U:{d} - L:{e} - Min:{f} - Max:{g}\".format(a=total_Q1,b=total_Q3,c=total_IQR,d=total_U,e=total_L,f=total_Min,g=total_Max))"
   ]
  },
  {
   "cell_type": "code",
   "execution_count": 37,
   "id": "5943129f-e947-48bb-8685-4fbeb95c2df2",
   "metadata": {},
   "outputs": [
    {
     "name": "stdout",
     "output_type": "stream",
     "text": [
      "Q1:6.01425 - Q3:22.402250000000002 - IQR:16.388 - U:46.98425 - L:-18.56775 - Min:0.5085 - Max:49.65\n"
     ]
    }
   ],
   "source": [
    "tax_Q3 = sales[\"Tax 5%\"].quantile(0.75)\n",
    "tax_Q1 = sales[\"Tax 5%\"].quantile(0.25)\n",
    "tax_IQR= tax_Q3-tax_Q1\n",
    "tax_U  = tax_Q3 + (1.5*tax_IQR) \n",
    "tax_L  = tax_Q1 - (1.5*tax_IQR)\n",
    "tax_Min = sales[\"Tax 5%\"].min()\n",
    "tax_Max = sales[\"Tax 5%\"].max()\n",
    "print(\"Q1:{a} - Q3:{b} - IQR:{c} - U:{d} - L:{e} - Min:{f} - Max:{g}\".format(a=tax_Q1,b=tax_Q3,c=tax_IQR,d=tax_U,e=tax_L,f=tax_Min,g=tax_Max))"
   ]
  },
  {
   "cell_type": "code",
   "execution_count": 38,
   "id": "1c45ee32-e85c-4650-88e0-76fcd8f9c012",
   "metadata": {},
   "outputs": [],
   "source": [
    "sales.drop(index=sales[((sales[\"Total\"]>total_U)|(sales[\"Total\"]<total_L))&((sales[\"Tax 5%\"]>tax_U)|(sales[\"Tax 5%\"]<tax_L))].index,inplace=True)"
   ]
  },
  {
   "cell_type": "code",
   "execution_count": 39,
   "id": "ccdceb0a-b09a-4a4c-a403-d14d1fc850d8",
   "metadata": {
    "scrolled": true
   },
   "outputs": [
    {
     "data": {
      "text/html": [
       "<div>\n",
       "<style scoped>\n",
       "    .dataframe tbody tr th:only-of-type {\n",
       "        vertical-align: middle;\n",
       "    }\n",
       "\n",
       "    .dataframe tbody tr th {\n",
       "        vertical-align: top;\n",
       "    }\n",
       "\n",
       "    .dataframe thead th {\n",
       "        text-align: right;\n",
       "    }\n",
       "</style>\n",
       "<table border=\"1\" class=\"dataframe\">\n",
       "  <thead>\n",
       "    <tr style=\"text-align: right;\">\n",
       "      <th></th>\n",
       "      <th>Invoice ID</th>\n",
       "      <th>Branch</th>\n",
       "      <th>Yangon</th>\n",
       "      <th>Naypyitaw</th>\n",
       "      <th>Mandalay</th>\n",
       "      <th>Customer type</th>\n",
       "      <th>Gender</th>\n",
       "      <th>Product line</th>\n",
       "      <th>Unit price</th>\n",
       "      <th>Quantity</th>\n",
       "      <th>Tax 5%</th>\n",
       "      <th>Total</th>\n",
       "      <th>Date</th>\n",
       "      <th>Time</th>\n",
       "      <th>Payment</th>\n",
       "      <th>Rating</th>\n",
       "    </tr>\n",
       "  </thead>\n",
       "  <tbody>\n",
       "    <tr>\n",
       "      <th>0</th>\n",
       "      <td>750-67-8428</td>\n",
       "      <td>A</td>\n",
       "      <td>1</td>\n",
       "      <td>0</td>\n",
       "      <td>0</td>\n",
       "      <td>Normal</td>\n",
       "      <td>Male</td>\n",
       "      <td>Health and beauty</td>\n",
       "      <td>74.69</td>\n",
       "      <td>7</td>\n",
       "      <td>26.1415</td>\n",
       "      <td>548.9715</td>\n",
       "      <td>2019-01-05</td>\n",
       "      <td>13:08</td>\n",
       "      <td>Ewallet</td>\n",
       "      <td>9.1</td>\n",
       "    </tr>\n",
       "    <tr>\n",
       "      <th>1</th>\n",
       "      <td>226-31-3081</td>\n",
       "      <td>C</td>\n",
       "      <td>0</td>\n",
       "      <td>1</td>\n",
       "      <td>0</td>\n",
       "      <td>Normal</td>\n",
       "      <td>Male</td>\n",
       "      <td>Electronic accessories</td>\n",
       "      <td>15.28</td>\n",
       "      <td>5</td>\n",
       "      <td>3.82</td>\n",
       "      <td>80.22</td>\n",
       "      <td>2019-03-08</td>\n",
       "      <td>10:29</td>\n",
       "      <td>Cash</td>\n",
       "      <td>9.6</td>\n",
       "    </tr>\n",
       "    <tr>\n",
       "      <th>2</th>\n",
       "      <td>631-41-3108</td>\n",
       "      <td>A</td>\n",
       "      <td>1</td>\n",
       "      <td>0</td>\n",
       "      <td>0</td>\n",
       "      <td>Normal</td>\n",
       "      <td>Male</td>\n",
       "      <td>Home and lifestyle</td>\n",
       "      <td>46.33</td>\n",
       "      <td>7</td>\n",
       "      <td>16.2155</td>\n",
       "      <td>340.5255</td>\n",
       "      <td>2019-03-03</td>\n",
       "      <td>13:23</td>\n",
       "      <td>Credit card</td>\n",
       "      <td>7.4</td>\n",
       "    </tr>\n",
       "    <tr>\n",
       "      <th>4</th>\n",
       "      <td>373-73-7910</td>\n",
       "      <td>A</td>\n",
       "      <td>1</td>\n",
       "      <td>0</td>\n",
       "      <td>0</td>\n",
       "      <td>Normal</td>\n",
       "      <td>Male</td>\n",
       "      <td>Sports and travel</td>\n",
       "      <td>86.31</td>\n",
       "      <td>7</td>\n",
       "      <td>30.2085</td>\n",
       "      <td>634.3785</td>\n",
       "      <td>2019-02-08</td>\n",
       "      <td>10:37</td>\n",
       "      <td>Ewallet</td>\n",
       "      <td>5.3</td>\n",
       "    </tr>\n",
       "    <tr>\n",
       "      <th>5</th>\n",
       "      <td>699-14-3026</td>\n",
       "      <td>C</td>\n",
       "      <td>0</td>\n",
       "      <td>1</td>\n",
       "      <td>0</td>\n",
       "      <td>Normal</td>\n",
       "      <td>Male</td>\n",
       "      <td>Electronic accessories</td>\n",
       "      <td>85.39</td>\n",
       "      <td>7</td>\n",
       "      <td>29.8865</td>\n",
       "      <td>627.6165</td>\n",
       "      <td>2019-03-25</td>\n",
       "      <td>18:30</td>\n",
       "      <td>Ewallet</td>\n",
       "      <td>4.1</td>\n",
       "    </tr>\n",
       "    <tr>\n",
       "      <th>...</th>\n",
       "      <td>...</td>\n",
       "      <td>...</td>\n",
       "      <td>...</td>\n",
       "      <td>...</td>\n",
       "      <td>...</td>\n",
       "      <td>...</td>\n",
       "      <td>...</td>\n",
       "      <td>...</td>\n",
       "      <td>...</td>\n",
       "      <td>...</td>\n",
       "      <td>...</td>\n",
       "      <td>...</td>\n",
       "      <td>...</td>\n",
       "      <td>...</td>\n",
       "      <td>...</td>\n",
       "      <td>...</td>\n",
       "    </tr>\n",
       "    <tr>\n",
       "      <th>1001</th>\n",
       "      <td>861-77-0145</td>\n",
       "      <td>C</td>\n",
       "      <td>0</td>\n",
       "      <td>1</td>\n",
       "      <td>0</td>\n",
       "      <td>Member</td>\n",
       "      <td>Male</td>\n",
       "      <td>Electronic accessories</td>\n",
       "      <td>81.97</td>\n",
       "      <td>10</td>\n",
       "      <td>40.985</td>\n",
       "      <td>860.685</td>\n",
       "      <td>2019-03-03</td>\n",
       "      <td>14:30</td>\n",
       "      <td>Cash</td>\n",
       "      <td>9.2</td>\n",
       "    </tr>\n",
       "    <tr>\n",
       "      <th>1002</th>\n",
       "      <td>479-26-8945</td>\n",
       "      <td>B</td>\n",
       "      <td>0</td>\n",
       "      <td>0</td>\n",
       "      <td>1</td>\n",
       "      <td>Member</td>\n",
       "      <td>Female</td>\n",
       "      <td>Sports and travel</td>\n",
       "      <td>16.49</td>\n",
       "      <td>2</td>\n",
       "      <td>1.649</td>\n",
       "      <td>34.629</td>\n",
       "      <td>2019-02-05</td>\n",
       "      <td>11:32</td>\n",
       "      <td>Ewallet</td>\n",
       "      <td>4.6</td>\n",
       "    </tr>\n",
       "    <tr>\n",
       "      <th>1003</th>\n",
       "      <td>210-67-5886</td>\n",
       "      <td>C</td>\n",
       "      <td>0</td>\n",
       "      <td>1</td>\n",
       "      <td>0</td>\n",
       "      <td>Member</td>\n",
       "      <td>Female</td>\n",
       "      <td>Health and beauty</td>\n",
       "      <td>98.21</td>\n",
       "      <td>3</td>\n",
       "      <td>14.7315</td>\n",
       "      <td>309.3615</td>\n",
       "      <td>2019-02-05</td>\n",
       "      <td>10:41</td>\n",
       "      <td>Credit card</td>\n",
       "      <td>7.8</td>\n",
       "    </tr>\n",
       "    <tr>\n",
       "      <th>1004</th>\n",
       "      <td>227-78-1148</td>\n",
       "      <td>B</td>\n",
       "      <td>0</td>\n",
       "      <td>0</td>\n",
       "      <td>1</td>\n",
       "      <td>Normal</td>\n",
       "      <td>Female</td>\n",
       "      <td>Fashion accessories</td>\n",
       "      <td>72.84</td>\n",
       "      <td>7</td>\n",
       "      <td>25.494</td>\n",
       "      <td>535.374</td>\n",
       "      <td>2019-02-15</td>\n",
       "      <td>12:44</td>\n",
       "      <td>Cash</td>\n",
       "      <td>8.4</td>\n",
       "    </tr>\n",
       "    <tr>\n",
       "      <th>1005</th>\n",
       "      <td>645-44-1170</td>\n",
       "      <td>A</td>\n",
       "      <td>1</td>\n",
       "      <td>0</td>\n",
       "      <td>0</td>\n",
       "      <td>Member</td>\n",
       "      <td>Male</td>\n",
       "      <td>Home and lifestyle</td>\n",
       "      <td>58.07</td>\n",
       "      <td>9</td>\n",
       "      <td>26.1315</td>\n",
       "      <td>548.7615</td>\n",
       "      <td>2019-01-19</td>\n",
       "      <td>20:07</td>\n",
       "      <td>Ewallet</td>\n",
       "      <td>4.3</td>\n",
       "    </tr>\n",
       "  </tbody>\n",
       "</table>\n",
       "<p>957 rows × 16 columns</p>\n",
       "</div>"
      ],
      "text/plain": [
       "       Invoice ID Branch Yangon Naypyitaw Mandalay Customer type  Gender  \\\n",
       "0     750-67-8428      A      1         0        0        Normal    Male   \n",
       "1     226-31-3081      C      0         1        0        Normal    Male   \n",
       "2     631-41-3108      A      1         0        0        Normal    Male   \n",
       "4     373-73-7910      A      1         0        0        Normal    Male   \n",
       "5     699-14-3026      C      0         1        0        Normal    Male   \n",
       "...           ...    ...    ...       ...      ...           ...     ...   \n",
       "1001  861-77-0145      C      0         1        0        Member    Male   \n",
       "1002  479-26-8945      B      0         0        1        Member  Female   \n",
       "1003  210-67-5886      C      0         1        0        Member  Female   \n",
       "1004  227-78-1148      B      0         0        1        Normal  Female   \n",
       "1005  645-44-1170      A      1         0        0        Member    Male   \n",
       "\n",
       "                Product line Unit price Quantity   Tax 5%     Total  \\\n",
       "0          Health and beauty      74.69        7  26.1415  548.9715   \n",
       "1     Electronic accessories      15.28        5     3.82     80.22   \n",
       "2         Home and lifestyle      46.33        7  16.2155  340.5255   \n",
       "4          Sports and travel      86.31        7  30.2085  634.3785   \n",
       "5     Electronic accessories      85.39        7  29.8865  627.6165   \n",
       "...                      ...        ...      ...      ...       ...   \n",
       "1001  Electronic accessories      81.97       10   40.985   860.685   \n",
       "1002       Sports and travel      16.49        2    1.649    34.629   \n",
       "1003       Health and beauty      98.21        3  14.7315  309.3615   \n",
       "1004     Fashion accessories      72.84        7   25.494   535.374   \n",
       "1005      Home and lifestyle      58.07        9  26.1315  548.7615   \n",
       "\n",
       "            Date   Time      Payment Rating  \n",
       "0     2019-01-05  13:08      Ewallet    9.1  \n",
       "1     2019-03-08  10:29         Cash    9.6  \n",
       "2     2019-03-03  13:23  Credit card    7.4  \n",
       "4     2019-02-08  10:37      Ewallet    5.3  \n",
       "5     2019-03-25  18:30      Ewallet    4.1  \n",
       "...          ...    ...          ...    ...  \n",
       "1001  2019-03-03  14:30         Cash    9.2  \n",
       "1002  2019-02-05  11:32      Ewallet    4.6  \n",
       "1003  2019-02-05  10:41  Credit card    7.8  \n",
       "1004  2019-02-15  12:44         Cash    8.4  \n",
       "1005  2019-01-19  20:07      Ewallet    4.3  \n",
       "\n",
       "[957 rows x 16 columns]"
      ]
     },
     "execution_count": 39,
     "metadata": {},
     "output_type": "execute_result"
    }
   ],
   "source": [
    "sales"
   ]
  },
  {
   "cell_type": "code",
   "execution_count": 40,
   "id": "cde5eb9d-0cc2-4306-841e-c23b92833e86",
   "metadata": {},
   "outputs": [
    {
     "data": {
      "image/png": "[encoded data removed]",
      "text/plain": [
       "<Figure size 900x400 with 2 Axes>"
      ]
     },
     "metadata": {},
     "output_type": "display_data"
    }
   ],
   "source": [
    "matplotlib.pyplot.style.use('dark_background')\n",
    "figure , axis = matplotlib.pyplot.subplots(1,2,figsize=(9,4))\n",
    "total_violinplot = axis[0].violinplot(numpy.array(sales[\"Total\"].astype(\"int\")),showmeans=True,showextrema=True,showmedians=True)\n",
    "tax_violinplot = axis[1].violinplot(numpy.array(sales[\"Tax 5%\"].astype(\"int\")),showmeans=True,showextrema=True,showmedians=True)\n",
    "axis[0].set_title(\"TOTAL VIOLINE\")\n",
    "axis[1].set_title(\"TAX VIOLINE\")\n",
    "total_violinplot['cmedians'].set_color(\"red\")\n",
    "total_violinplot['cmeans'].set_color(\"green\")\n",
    "total_violinplot['cmedians'].set_color(\"red\")\n",
    "tax_violinplot['cmedians'].set_color(\"red\")\n",
    "tax_violinplot['cmeans'].set_color(\"green\")\n",
    "tax_violinplot['cmedians'].set_color(\"red\")\n",
    "matplotlib.pyplot.show()"
   ]
  },
  {
   "cell_type": "code",
   "execution_count": 41,
   "id": "09a1cf1c-4932-4805-a6f5-42abd4464b21",
   "metadata": {},
   "outputs": [
    {
     "data": {
      "image/png": "[encoded data removed]",
      "text/plain": [
       "<Figure size 2500x1000 with 10 Axes>"
      ]
     },
     "metadata": {},
     "output_type": "display_data"
    }
   ],
   "source": [
    "matplotlib.pyplot.style.use('dark_background')\n",
    "figure , axis = matplotlib.pyplot.subplots(2,5,figsize=(25,10))\n",
    "\n",
    "branch_pieplot = axis[0,0].pie(\n",
    "    sales[\"Branch\"].value_counts().values,\n",
    "    labels=sales[\"Branch\"].value_counts().index,\n",
    "    colors=[\"#4B00B2\",\"#C79FEF\",\"#DA70D6\"],\n",
    "    autopct='%1.1f%%',\n",
    "    pctdistance=1.25,\n",
    "    labeldistance=.6,\n",
    "    textprops={'size': 'smaller','color':'white'},\n",
    "    rotatelabels=False,\n",
    "    frame=False)\n",
    "\n",
    "customer_pieplot = axis[0,1].pie(\n",
    "    sales[\"Customer type\"].value_counts().values,\n",
    "    labels=sales[\"Customer type\"].value_counts().index,\n",
    "    autopct='%1.1f%%',\n",
    "    pctdistance=1.25,\n",
    "    labeldistance=.6,\n",
    "    textprops={'size': 'smaller','color':'white'},\n",
    "    rotatelabels=False,\n",
    "    frame=False)\n",
    "\n",
    "gender_pieplot = axis[0,2].pie(\n",
    "    sales[\"Gender\"].value_counts().values,\n",
    "    labels=sales[\"Gender\"].value_counts().index,\n",
    "    colors=[\"#4B00B2\",\"#DA70D6\"],\n",
    "    autopct='%1.1f%%',\n",
    "    pctdistance=1.25,\n",
    "    labeldistance=.6,\n",
    "    textprops={'size': 'smaller','color':'white'},\n",
    "    rotatelabels=False,\n",
    "    frame=False)\n",
    "\n",
    "line_barplot = axis[0,3].bar(\n",
    "    height=sales[\"Product line\"].value_counts().values,\n",
    "    x=sales[\"Product line\"].value_counts().index,\n",
    "    tick_label=sales[\"Product line\"].value_counts().index,\n",
    "    )\n",
    "axis[0,3].set_xticklabels([])\n",
    "for i,value in enumerate(sales[\"Product line\"].value_counts().values):\n",
    "    axis[0,3].text(i,value/2,sales[\"Product line\"].value_counts().index[i],ha='center',va='center',rotation=90)\n",
    "\n",
    "unit_histplot = axis[0,4].hist(x=sales[\"Unit price\"],bins=40)\n",
    "quantity_histplot = axis[1,0].hist(x=sales[\"Quantity\"],bins=10)\n",
    "\n",
    "total_violinplot = axis[1,1].violinplot(numpy.array(sales[\"Total\"].astype(\"int\")),showmeans=True,showextrema=True,showmedians=True)\n",
    "tax_violinplot = axis[1,2].violinplot(numpy.array(sales[\"Tax 5%\"].astype(\"int\")),showmeans=True,showextrema=True,showmedians=True)\n",
    "\n",
    "\n",
    "Payment_pieplot = axis[1,3].pie(\n",
    "    sales[\"Payment\"].value_counts().values,\n",
    "    labels=sales[\"Payment\"].value_counts().index,\n",
    "    colors=[\"#4B00B2\",\"#DA70D6\"],\n",
    "    autopct='%1.1f%%',\n",
    "    pctdistance=1.25,\n",
    "    labeldistance=.6,\n",
    "    textprops={'size': 'smaller','color':'white'},\n",
    "    rotatelabels=False,\n",
    "    frame=False)\n",
    "\n",
    "Rating_histplot = axis[1,4].hist(x=sales[\"Rating\"],bins=100)\n",
    "\n",
    "axis[1,1].set_title(\"TOTAL VIOLINE\")\n",
    "axis[1,2].set_title(\"TAX VIOLINE\")\n",
    "total_violinplot['cmedians'].set_color(\"red\")\n",
    "total_violinplot['cmeans'].set_color(\"green\")\n",
    "total_violinplot['cmedians'].set_color(\"red\")\n",
    "tax_violinplot['cmedians'].set_color(\"red\")\n",
    "tax_violinplot['cmeans'].set_color(\"green\")\n",
    "tax_violinplot['cmedians'].set_color(\"red\")\n",
    "matplotlib.pyplot.show()"
   ]
  },
  {
   "cell_type": "code",
   "execution_count": 113,
   "id": "8bead218-b1dc-44b7-a298-e6b3d64688c0",
   "metadata": {},
   "outputs": [
    {
     "data": {
      "text/html": [
       "<div>\n",
       "<style scoped>\n",
       "    .dataframe tbody tr th:only-of-type {\n",
       "        vertical-align: middle;\n",
       "    }\n",
       "\n",
       "    .dataframe tbody tr th {\n",
       "        vertical-align: top;\n",
       "    }\n",
       "\n",
       "    .dataframe thead th {\n",
       "        text-align: right;\n",
       "    }\n",
       "</style>\n",
       "<table border=\"1\" class=\"dataframe\">\n",
       "  <thead>\n",
       "    <tr style=\"text-align: right;\">\n",
       "      <th>Customer type</th>\n",
       "      <th>Branch</th>\n",
       "      <th>Member</th>\n",
       "      <th>Normal</th>\n",
       "    </tr>\n",
       "  </thead>\n",
       "  <tbody>\n",
       "    <tr>\n",
       "      <th>0</th>\n",
       "      <td>A</td>\n",
       "      <td>153</td>\n",
       "      <td>174</td>\n",
       "    </tr>\n",
       "    <tr>\n",
       "      <th>1</th>\n",
       "      <td>B</td>\n",
       "      <td>147</td>\n",
       "      <td>173</td>\n",
       "    </tr>\n",
       "    <tr>\n",
       "      <th>2</th>\n",
       "      <td>C</td>\n",
       "      <td>155</td>\n",
       "      <td>155</td>\n",
       "    </tr>\n",
       "  </tbody>\n",
       "</table>\n",
       "</div>"
      ],
      "text/plain": [
       "Customer type Branch  Member  Normal\n",
       "0                  A     153     174\n",
       "1                  B     147     173\n",
       "2                  C     155     155"
      ]
     },
     "execution_count": 113,
     "metadata": {},
     "output_type": "execute_result"
    }
   ],
   "source": [
    "Branch2CustomerType=pandas.pivot_table(data=sales,index=\"Branch\",columns=\"Customer type\",aggfunc=\"size\",fill_value=0).reset_index()\n",
    "Branch2CustomerType"
   ]
  },
  {
   "cell_type": "code",
   "execution_count": 111,
   "id": "63c7857c-3c4d-41ef-b74e-6eaf12f40d46",
   "metadata": {},
   "outputs": [
    {
     "data": {
      "text/html": [
       "<div>\n",
       "<style scoped>\n",
       "    .dataframe tbody tr th:only-of-type {\n",
       "        vertical-align: middle;\n",
       "    }\n",
       "\n",
       "    .dataframe tbody tr th {\n",
       "        vertical-align: top;\n",
       "    }\n",
       "\n",
       "    .dataframe thead th {\n",
       "        text-align: right;\n",
       "    }\n",
       "</style>\n",
       "<table border=\"1\" class=\"dataframe\">\n",
       "  <thead>\n",
       "    <tr style=\"text-align: right;\">\n",
       "      <th>Gender</th>\n",
       "      <th>Branch</th>\n",
       "      <th>Female</th>\n",
       "      <th>Male</th>\n",
       "    </tr>\n",
       "  </thead>\n",
       "  <tbody>\n",
       "    <tr>\n",
       "      <th>0</th>\n",
       "      <td>A</td>\n",
       "      <td>148</td>\n",
       "      <td>179</td>\n",
       "    </tr>\n",
       "    <tr>\n",
       "      <th>1</th>\n",
       "      <td>B</td>\n",
       "      <td>146</td>\n",
       "      <td>174</td>\n",
       "    </tr>\n",
       "    <tr>\n",
       "      <th>2</th>\n",
       "      <td>C</td>\n",
       "      <td>162</td>\n",
       "      <td>148</td>\n",
       "    </tr>\n",
       "  </tbody>\n",
       "</table>\n",
       "</div>"
      ],
      "text/plain": [
       "Gender Branch  Female  Male\n",
       "0           A     148   179\n",
       "1           B     146   174\n",
       "2           C     162   148"
      ]
     },
     "execution_count": 111,
     "metadata": {},
     "output_type": "execute_result"
    }
   ],
   "source": [
    "Branch2CustomerGender=pandas.pivot_table(data=sales,index=\"Branch\",columns=\"Gender\",aggfunc=\"size\",fill_value=0).reset_index()\n",
    "Branch2CustomerGender"
   ]
  },
  {
   "cell_type": "code",
   "execution_count": 114,
   "id": "815c434c-c0f6-4596-a64e-91cfe011d2d8",
   "metadata": {
    "scrolled": true
   },
   "outputs": [
    {
     "data": {
      "text/html": [
       "<div>\n",
       "<style scoped>\n",
       "    .dataframe tbody tr th:only-of-type {\n",
       "        vertical-align: middle;\n",
       "    }\n",
       "\n",
       "    .dataframe tbody tr th {\n",
       "        vertical-align: top;\n",
       "    }\n",
       "\n",
       "    .dataframe thead th {\n",
       "        text-align: right;\n",
       "    }\n",
       "</style>\n",
       "<table border=\"1\" class=\"dataframe\">\n",
       "  <thead>\n",
       "    <tr style=\"text-align: right;\">\n",
       "      <th>Product line</th>\n",
       "      <th>Branch</th>\n",
       "      <th>Electronic accessories</th>\n",
       "      <th>Fashion accessories</th>\n",
       "      <th>Food and beverages</th>\n",
       "      <th>Health and beauty</th>\n",
       "      <th>Home and lifestyle</th>\n",
       "      <th>Sports and travel</th>\n",
       "    </tr>\n",
       "  </thead>\n",
       "  <tbody>\n",
       "    <tr>\n",
       "      <th>0</th>\n",
       "      <td>A</td>\n",
       "      <td>59</td>\n",
       "      <td>49</td>\n",
       "      <td>56</td>\n",
       "      <td>43</td>\n",
       "      <td>63</td>\n",
       "      <td>57</td>\n",
       "    </tr>\n",
       "    <tr>\n",
       "      <th>1</th>\n",
       "      <td>B</td>\n",
       "      <td>53</td>\n",
       "      <td>60</td>\n",
       "      <td>48</td>\n",
       "      <td>51</td>\n",
       "      <td>47</td>\n",
       "      <td>61</td>\n",
       "    </tr>\n",
       "    <tr>\n",
       "      <th>2</th>\n",
       "      <td>C</td>\n",
       "      <td>52</td>\n",
       "      <td>59</td>\n",
       "      <td>63</td>\n",
       "      <td>51</td>\n",
       "      <td>42</td>\n",
       "      <td>43</td>\n",
       "    </tr>\n",
       "  </tbody>\n",
       "</table>\n",
       "</div>"
      ],
      "text/plain": [
       "Product line Branch  Electronic accessories  Fashion accessories  \\\n",
       "0                 A                      59                   49   \n",
       "1                 B                      53                   60   \n",
       "2                 C                      52                   59   \n",
       "\n",
       "Product line  Food and beverages  Health and beauty  Home and lifestyle  \\\n",
       "0                             56                 43                  63   \n",
       "1                             48                 51                  47   \n",
       "2                             63                 51                  42   \n",
       "\n",
       "Product line  Sports and travel  \n",
       "0                            57  \n",
       "1                            61  \n",
       "2                            43  "
      ]
     },
     "execution_count": 114,
     "metadata": {},
     "output_type": "execute_result"
    }
   ],
   "source": [
    "Branch2ProductLine=pandas.pivot_table(data=sales,index=\"Branch\",columns=\"Product line\",aggfunc=\"size\",fill_value=0).reset_index()\n",
    "Branch2ProductLine"
   ]
  },
  {
   "cell_type": "code",
   "execution_count": 115,
   "id": "0ff790eb",
   "metadata": {
    "scrolled": true
   },
   "outputs": [
    {
     "data": {
      "text/html": [
       "<div>\n",
       "<style scoped>\n",
       "    .dataframe tbody tr th:only-of-type {\n",
       "        vertical-align: middle;\n",
       "    }\n",
       "\n",
       "    .dataframe tbody tr th {\n",
       "        vertical-align: top;\n",
       "    }\n",
       "\n",
       "    .dataframe thead th {\n",
       "        text-align: right;\n",
       "    }\n",
       "</style>\n",
       "<table border=\"1\" class=\"dataframe\">\n",
       "  <thead>\n",
       "    <tr style=\"text-align: right;\">\n",
       "      <th>Payment</th>\n",
       "      <th>Branch</th>\n",
       "      <th>Cash</th>\n",
       "      <th>Credit card</th>\n",
       "      <th>Ewallet</th>\n",
       "    </tr>\n",
       "  </thead>\n",
       "  <tbody>\n",
       "    <tr>\n",
       "      <th>0</th>\n",
       "      <td>A</td>\n",
       "      <td>102</td>\n",
       "      <td>101</td>\n",
       "      <td>124</td>\n",
       "    </tr>\n",
       "    <tr>\n",
       "      <th>1</th>\n",
       "      <td>B</td>\n",
       "      <td>108</td>\n",
       "      <td>106</td>\n",
       "      <td>106</td>\n",
       "    </tr>\n",
       "    <tr>\n",
       "      <th>2</th>\n",
       "      <td>C</td>\n",
       "      <td>117</td>\n",
       "      <td>92</td>\n",
       "      <td>101</td>\n",
       "    </tr>\n",
       "  </tbody>\n",
       "</table>\n",
       "</div>"
      ],
      "text/plain": [
       "Payment Branch  Cash  Credit card  Ewallet\n",
       "0            A   102          101      124\n",
       "1            B   108          106      106\n",
       "2            C   117           92      101"
      ]
     },
     "execution_count": 115,
     "metadata": {},
     "output_type": "execute_result"
    }
   ],
   "source": [
    "Branch2PaymentMethod=pandas.pivot_table(data=sales,index=\"Branch\",columns=\"Payment\",aggfunc=\"size\",fill_value=0).reset_index()\n",
    "Branch2PaymentMethod"
   ]
  },
  {
   "cell_type": "code",
   "execution_count": 96,
   "id": "49c021e3",
   "metadata": {
    "scrolled": true
   },
   "outputs": [
    {
     "data": {
      "text/html": [
       "<div>\n",
       "<style scoped>\n",
       "    .dataframe tbody tr th:only-of-type {\n",
       "        vertical-align: middle;\n",
       "    }\n",
       "\n",
       "    .dataframe tbody tr th {\n",
       "        vertical-align: top;\n",
       "    }\n",
       "\n",
       "    .dataframe thead th {\n",
       "        text-align: right;\n",
       "    }\n",
       "</style>\n",
       "<table border=\"1\" class=\"dataframe\">\n",
       "  <thead>\n",
       "    <tr style=\"text-align: right;\">\n",
       "      <th></th>\n",
       "      <th>Branch</th>\n",
       "      <th>Average Total Sales</th>\n",
       "    </tr>\n",
       "  </thead>\n",
       "  <tbody>\n",
       "    <tr>\n",
       "      <th>0</th>\n",
       "      <td>A</td>\n",
       "      <td>310.29783</td>\n",
       "    </tr>\n",
       "    <tr>\n",
       "      <th>1</th>\n",
       "      <td>B</td>\n",
       "      <td>317.262586</td>\n",
       "    </tr>\n",
       "    <tr>\n",
       "      <th>2</th>\n",
       "      <td>C</td>\n",
       "      <td>321.663503</td>\n",
       "    </tr>\n",
       "  </tbody>\n",
       "</table>\n",
       "</div>"
      ],
      "text/plain": [
       "  Branch Average Total Sales\n",
       "0      A           310.29783\n",
       "1      B          317.262586\n",
       "2      C          321.663503"
      ]
     },
     "execution_count": 96,
     "metadata": {},
     "output_type": "execute_result"
    }
   ],
   "source": [
    "Branch2AverageTotalSales= pandas.DataFrame(sales.groupby(sales[\"Branch\"])[\"Total\"].mean().reset_index())\n",
    "Branch2AverageTotalSales.rename(columns={'Branch':'Branch', 'Total':'Average Total Sales'},inplace=True)\n",
    "Branch2AverageTotalSales"
   ]
  },
  {
   "cell_type": "code",
   "execution_count": 102,
   "id": "3b95e1f9-2b16-4204-84ab-0f54f3cf676e",
   "metadata": {},
   "outputs": [
    {
     "data": {
      "text/html": [
       "<div>\n",
       "<style scoped>\n",
       "    .dataframe tbody tr th:only-of-type {\n",
       "        vertical-align: middle;\n",
       "    }\n",
       "\n",
       "    .dataframe tbody tr th {\n",
       "        vertical-align: top;\n",
       "    }\n",
       "\n",
       "    .dataframe thead th {\n",
       "        text-align: right;\n",
       "    }\n",
       "</style>\n",
       "<table border=\"1\" class=\"dataframe\">\n",
       "  <thead>\n",
       "    <tr style=\"text-align: right;\">\n",
       "      <th></th>\n",
       "      <th>Branch</th>\n",
       "      <th>Average Products Quantities</th>\n",
       "    </tr>\n",
       "  </thead>\n",
       "  <tbody>\n",
       "    <tr>\n",
       "      <th>0</th>\n",
       "      <td>A</td>\n",
       "      <td>5.409786</td>\n",
       "    </tr>\n",
       "    <tr>\n",
       "      <th>1</th>\n",
       "      <td>B</td>\n",
       "      <td>5.446875</td>\n",
       "    </tr>\n",
       "    <tr>\n",
       "      <th>2</th>\n",
       "      <td>C</td>\n",
       "      <td>5.464516</td>\n",
       "    </tr>\n",
       "  </tbody>\n",
       "</table>\n",
       "</div>"
      ],
      "text/plain": [
       "  Branch Average Products Quantities\n",
       "0      A                    5.409786\n",
       "1      B                    5.446875\n",
       "2      C                    5.464516"
      ]
     },
     "execution_count": 102,
     "metadata": {},
     "output_type": "execute_result"
    }
   ],
   "source": [
    "Branch2AverageQuantities=pandas.DataFrame(sales.groupby(sales[\"Branch\"])[\"Quantity\"].mean().reset_index())\n",
    "Branch2AverageQuantities.rename(columns={'Branch':'Branch', 'Quantity':'Average Products Quantities'},inplace=True)\n",
    "Branch2AverageQuantities"
   ]
  },
  {
   "cell_type": "code",
   "execution_count": 103,
   "id": "e5c27ba8-5765-417e-8618-ee5505f6e249",
   "metadata": {},
   "outputs": [
    {
     "data": {
      "text/html": [
       "<div>\n",
       "<style scoped>\n",
       "    .dataframe tbody tr th:only-of-type {\n",
       "        vertical-align: middle;\n",
       "    }\n",
       "\n",
       "    .dataframe tbody tr th {\n",
       "        vertical-align: top;\n",
       "    }\n",
       "\n",
       "    .dataframe thead th {\n",
       "        text-align: right;\n",
       "    }\n",
       "</style>\n",
       "<table border=\"1\" class=\"dataframe\">\n",
       "  <thead>\n",
       "    <tr style=\"text-align: right;\">\n",
       "      <th></th>\n",
       "      <th>Branch</th>\n",
       "      <th>Average Customers Rating</th>\n",
       "    </tr>\n",
       "  </thead>\n",
       "  <tbody>\n",
       "    <tr>\n",
       "      <th>0</th>\n",
       "      <td>A</td>\n",
       "      <td>7.023853</td>\n",
       "    </tr>\n",
       "    <tr>\n",
       "      <th>1</th>\n",
       "      <td>B</td>\n",
       "      <td>6.81954</td>\n",
       "    </tr>\n",
       "    <tr>\n",
       "      <th>2</th>\n",
       "      <td>C</td>\n",
       "      <td>7.059032</td>\n",
       "    </tr>\n",
       "  </tbody>\n",
       "</table>\n",
       "</div>"
      ],
      "text/plain": [
       "  Branch Average Customers Rating\n",
       "0      A                 7.023853\n",
       "1      B                  6.81954\n",
       "2      C                 7.059032"
      ]
     },
     "execution_count": 103,
     "metadata": {},
     "output_type": "execute_result"
    }
   ],
   "source": [
    "Branch2AverageRating=pandas.DataFrame(sales.groupby(sales[\"Branch\"])[\"Rating\"].mean().reset_index())\n",
    "Branch2AverageRating.rename(columns={'Branch':'Branch', 'Rating':'Average Customers Rating'},inplace=True)\n",
    "Branch2AverageRating"
   ]
  },
  {
   "cell_type": "code",
   "execution_count": 104,
   "id": "4ce9b0c2-f274-4cbd-aa53-790bbe8d57e4",
   "metadata": {
    "scrolled": true
   },
   "outputs": [
    {
     "data": {
      "text/html": [
       "<div>\n",
       "<style scoped>\n",
       "    .dataframe tbody tr th:only-of-type {\n",
       "        vertical-align: middle;\n",
       "    }\n",
       "\n",
       "    .dataframe tbody tr th {\n",
       "        vertical-align: top;\n",
       "    }\n",
       "\n",
       "    .dataframe thead th {\n",
       "        text-align: right;\n",
       "    }\n",
       "</style>\n",
       "<table border=\"1\" class=\"dataframe\">\n",
       "  <thead>\n",
       "    <tr style=\"text-align: right;\">\n",
       "      <th></th>\n",
       "      <th>Branch</th>\n",
       "      <th>Tax 5%</th>\n",
       "    </tr>\n",
       "  </thead>\n",
       "  <tbody>\n",
       "    <tr>\n",
       "      <th>0</th>\n",
       "      <td>A</td>\n",
       "      <td>14.776087</td>\n",
       "    </tr>\n",
       "    <tr>\n",
       "      <th>1</th>\n",
       "      <td>B</td>\n",
       "      <td>15.107742</td>\n",
       "    </tr>\n",
       "    <tr>\n",
       "      <th>2</th>\n",
       "      <td>C</td>\n",
       "      <td>15.31731</td>\n",
       "    </tr>\n",
       "  </tbody>\n",
       "</table>\n",
       "</div>"
      ],
      "text/plain": [
       "  Branch     Tax 5%\n",
       "0      A  14.776087\n",
       "1      B  15.107742\n",
       "2      C   15.31731"
      ]
     },
     "execution_count": 104,
     "metadata": {},
     "output_type": "execute_result"
    }
   ],
   "source": [
    "Branch2AverageTax=pandas.DataFrame(sales.groupby(sales[\"Branch\"])[\"Tax 5%\"].mean().reset_index())\n",
    "Branch2AverageTax.rename(columns={'Branch':'Branch', 'Tax':'Average Payed Tax'},inplace=True)\n",
    "Branch2AverageTax"
   ]
  },
  {
   "cell_type": "code",
   "execution_count": 154,
   "id": "da97d3d5-d770-4b02-9571-70430e2e2fe0",
   "metadata": {},
   "outputs": [
    {
     "data": {
      "text/html": [
       "<div>\n",
       "<style scoped>\n",
       "    .dataframe tbody tr th:only-of-type {\n",
       "        vertical-align: middle;\n",
       "    }\n",
       "\n",
       "    .dataframe tbody tr th {\n",
       "        vertical-align: top;\n",
       "    }\n",
       "\n",
       "    .dataframe thead th {\n",
       "        text-align: right;\n",
       "    }\n",
       "</style>\n",
       "<table border=\"1\" class=\"dataframe\">\n",
       "  <thead>\n",
       "    <tr style=\"text-align: right;\">\n",
       "      <th>Customer type</th>\n",
       "      <th>Branch</th>\n",
       "      <th>Member</th>\n",
       "      <th>Normal</th>\n",
       "    </tr>\n",
       "  </thead>\n",
       "  <tbody>\n",
       "    <tr>\n",
       "      <th>0</th>\n",
       "      <td>A</td>\n",
       "      <td>153</td>\n",
       "      <td>174</td>\n",
       "    </tr>\n",
       "    <tr>\n",
       "      <th>1</th>\n",
       "      <td>B</td>\n",
       "      <td>147</td>\n",
       "      <td>173</td>\n",
       "    </tr>\n",
       "    <tr>\n",
       "      <th>2</th>\n",
       "      <td>C</td>\n",
       "      <td>155</td>\n",
       "      <td>155</td>\n",
       "    </tr>\n",
       "  </tbody>\n",
       "</table>\n",
       "</div>"
      ],
      "text/plain": [
       "Customer type Branch  Member  Normal\n",
       "0                  A     153     174\n",
       "1                  B     147     173\n",
       "2                  C     155     155"
      ]
     },
     "execution_count": 154,
     "metadata": {},
     "output_type": "execute_result"
    }
   ],
   "source": [
    "Branch2CustomerType"
   ]
  },
  {
   "cell_type": "code",
   "execution_count": 213,
   "id": "931f3020-29d9-42a3-a44f-23ffa85cbb38",
   "metadata": {},
   "outputs": [
    {
     "data": {
      "image/png": "[encoded data removed]",
      "text/plain": [
       "<Figure size 2500x1000 with 8 Axes>"
      ]
     },
     "metadata": {},
     "output_type": "display_data"
    }
   ],
   "source": [
    "matplotlib.pyplot.style.use('dark_background')\n",
    "figure , axis = matplotlib.pyplot.subplots(2,4,figsize=(25,10))\n",
    "axis[0,0].bar([i-0.3/2 for i in range(len(Branch2CustomerType['Branch']))],Branch2CustomerType['Normal'],0.3,tick_label=Branch2CustomerType[\"Branch\"],color='#DC143C')\n",
    "axis[0,0].bar([i+0.3/2 for i in range(len(Branch2CustomerType['Branch']))],Branch2CustomerType['Member'],0.3,tick_label=Branch2CustomerType[\"Branch\"],color='#C1F80A')\n",
    "\n",
    "axis[0,1].bar([i-0.3/2 for i in range(len(Branch2CustomerGender['Branch']))],Branch2CustomerGender['Female'],0.3,tick_label=Branch2CustomerGender[\"Branch\"],color='pink')\n",
    "axis[0,1].bar([i+0.3/2 for i in range(len(Branch2CustomerGender['Branch']))],Branch2CustomerGender['Male'],0.3,tick_label=Branch2CustomerGender[\"Branch\"],color='blue')\n",
    "\n",
    "axis[0,2].bar([i-3/7 for i in range(len(Branch2ProductLine['Branch']))],Branch2ProductLine['Electronic accessories'],0.126,tick_label=Branch2ProductLine[\"Branch\"],color='blue')\n",
    "axis[0,2].bar([i-2/7 for i in range(len(Branch2ProductLine['Branch']))],Branch2ProductLine['Fashion accessories'],0.126,tick_label=Branch2ProductLine[\"Branch\"],color='pink')\n",
    "axis[0,2].bar([i-1/7 for i in range(len(Branch2ProductLine['Branch']))],Branch2ProductLine['Food and beverages'],0.126,tick_label=Branch2ProductLine[\"Branch\"],color='olive')\n",
    "axis[0,2].bar([i+0/7  for i in range(len(Branch2ProductLine['Branch']))],Branch2ProductLine['Health and beauty'],0.126,tick_label=Branch2ProductLine[\"Branch\"],color='mediumseagreen')\n",
    "axis[0,2].bar([i+1/7 for i in range(len(Branch2ProductLine['Branch']))],Branch2ProductLine['Home and lifestyle'],0.126,tick_label=Branch2ProductLine[\"Branch\"],color='purple')\n",
    "axis[0,2].bar([i+2/7 for i in range(len(Branch2ProductLine['Branch']))],Branch2ProductLine['Sports and travel'],0.126,tick_label=Branch2ProductLine[\"Branch\"],color='orange')\n",
    "\n",
    "\n",
    "#\t\t\t\t\t\t\t\n",
    "matplotlib.pyplot.show()"
   ]
  },
  {
   "cell_type": "code",
   "execution_count": null,
   "id": "ab33d3db-bb95-459e-a117-25247f9c7d46",
   "metadata": {},
   "outputs": [],
   "source": []
  },
  {
   "cell_type": "code",
   "execution_count": 50,
   "id": "90995cf5-66b1-48ff-be92-5ab0cdebe671",
   "metadata": {},
   "outputs": [
    {
     "data": {
      "text/html": [
       "<div>\n",
       "<style scoped>\n",
       "    .dataframe tbody tr th:only-of-type {\n",
       "        vertical-align: middle;\n",
       "    }\n",
       "\n",
       "    .dataframe tbody tr th {\n",
       "        vertical-align: top;\n",
       "    }\n",
       "\n",
       "    .dataframe thead th {\n",
       "        text-align: right;\n",
       "    }\n",
       "</style>\n",
       "<table border=\"1\" class=\"dataframe\">\n",
       "  <thead>\n",
       "    <tr style=\"text-align: right;\">\n",
       "      <th>Gender</th>\n",
       "      <th>Female</th>\n",
       "      <th>Male</th>\n",
       "    </tr>\n",
       "    <tr>\n",
       "      <th>Customer type</th>\n",
       "      <th></th>\n",
       "      <th></th>\n",
       "    </tr>\n",
       "  </thead>\n",
       "  <tbody>\n",
       "    <tr>\n",
       "      <th>Member</th>\n",
       "      <td>232</td>\n",
       "      <td>223</td>\n",
       "    </tr>\n",
       "    <tr>\n",
       "      <th>Normal</th>\n",
       "      <td>224</td>\n",
       "      <td>278</td>\n",
       "    </tr>\n",
       "  </tbody>\n",
       "</table>\n",
       "</div>"
      ],
      "text/plain": [
       "Gender         Female  Male\n",
       "Customer type              \n",
       "Member            232   223\n",
       "Normal            224   278"
      ]
     },
     "execution_count": 50,
     "metadata": {},
     "output_type": "execute_result"
    }
   ],
   "source": [
    "pandas.pivot_table(data=sales,index=\"Customer type\",columns=\"Gender\",aggfunc=\"size\",fill_value=0)"
   ]
  },
  {
   "cell_type": "code",
   "execution_count": 51,
   "id": "cb30f870",
   "metadata": {},
   "outputs": [
    {
     "data": {
      "text/html": [
       "<div>\n",
       "<style scoped>\n",
       "    .dataframe tbody tr th:only-of-type {\n",
       "        vertical-align: middle;\n",
       "    }\n",
       "\n",
       "    .dataframe tbody tr th {\n",
       "        vertical-align: top;\n",
       "    }\n",
       "\n",
       "    .dataframe thead th {\n",
       "        text-align: right;\n",
       "    }\n",
       "</style>\n",
       "<table border=\"1\" class=\"dataframe\">\n",
       "  <thead>\n",
       "    <tr style=\"text-align: right;\">\n",
       "      <th>Product line</th>\n",
       "      <th>Electronic accessories</th>\n",
       "      <th>Fashion accessories</th>\n",
       "      <th>Food and beverages</th>\n",
       "      <th>Health and beauty</th>\n",
       "      <th>Home and lifestyle</th>\n",
       "      <th>Sports and travel</th>\n",
       "    </tr>\n",
       "    <tr>\n",
       "      <th>Customer type</th>\n",
       "      <th></th>\n",
       "      <th></th>\n",
       "      <th></th>\n",
       "      <th></th>\n",
       "      <th></th>\n",
       "      <th></th>\n",
       "    </tr>\n",
       "  </thead>\n",
       "  <tbody>\n",
       "    <tr>\n",
       "      <th>Member</th>\n",
       "      <td>72</td>\n",
       "      <td>78</td>\n",
       "      <td>86</td>\n",
       "      <td>64</td>\n",
       "      <td>77</td>\n",
       "      <td>78</td>\n",
       "    </tr>\n",
       "    <tr>\n",
       "      <th>Normal</th>\n",
       "      <td>92</td>\n",
       "      <td>90</td>\n",
       "      <td>81</td>\n",
       "      <td>81</td>\n",
       "      <td>75</td>\n",
       "      <td>83</td>\n",
       "    </tr>\n",
       "  </tbody>\n",
       "</table>\n",
       "</div>"
      ],
      "text/plain": [
       "Product line   Electronic accessories  Fashion accessories  \\\n",
       "Customer type                                                \n",
       "Member                             72                   78   \n",
       "Normal                             92                   90   \n",
       "\n",
       "Product line   Food and beverages  Health and beauty  Home and lifestyle  \\\n",
       "Customer type                                                              \n",
       "Member                         86                 64                  77   \n",
       "Normal                         81                 81                  75   \n",
       "\n",
       "Product line   Sports and travel  \n",
       "Customer type                     \n",
       "Member                        78  \n",
       "Normal                        83  "
      ]
     },
     "execution_count": 51,
     "metadata": {},
     "output_type": "execute_result"
    }
   ],
   "source": [
    "pandas.pivot_table(data=sales,index=\"Customer type\",columns=\"Product line\",aggfunc=\"size\",fill_value=0)"
   ]
  },
  {
   "cell_type": "code",
   "execution_count": 52,
   "id": "452d090a",
   "metadata": {},
   "outputs": [
    {
     "data": {
      "text/html": [
       "<div>\n",
       "<style scoped>\n",
       "    .dataframe tbody tr th:only-of-type {\n",
       "        vertical-align: middle;\n",
       "    }\n",
       "\n",
       "    .dataframe tbody tr th {\n",
       "        vertical-align: top;\n",
       "    }\n",
       "\n",
       "    .dataframe thead th {\n",
       "        text-align: right;\n",
       "    }\n",
       "</style>\n",
       "<table border=\"1\" class=\"dataframe\">\n",
       "  <thead>\n",
       "    <tr style=\"text-align: right;\">\n",
       "      <th>Payment</th>\n",
       "      <th>Cash</th>\n",
       "      <th>Credit card</th>\n",
       "      <th>Ewallet</th>\n",
       "    </tr>\n",
       "    <tr>\n",
       "      <th>Customer type</th>\n",
       "      <th></th>\n",
       "      <th></th>\n",
       "      <th></th>\n",
       "    </tr>\n",
       "  </thead>\n",
       "  <tbody>\n",
       "    <tr>\n",
       "      <th>Member</th>\n",
       "      <td>151</td>\n",
       "      <td>160</td>\n",
       "      <td>144</td>\n",
       "    </tr>\n",
       "    <tr>\n",
       "      <th>Normal</th>\n",
       "      <td>176</td>\n",
       "      <td>139</td>\n",
       "      <td>187</td>\n",
       "    </tr>\n",
       "  </tbody>\n",
       "</table>\n",
       "</div>"
      ],
      "text/plain": [
       "Payment        Cash  Credit card  Ewallet\n",
       "Customer type                            \n",
       "Member          151          160      144\n",
       "Normal          176          139      187"
      ]
     },
     "execution_count": 52,
     "metadata": {},
     "output_type": "execute_result"
    }
   ],
   "source": [
    "pandas.pivot_table(data=sales,index=\"Customer type\",columns=\"Payment\",aggfunc=\"size\",fill_value=0)"
   ]
  },
  {
   "cell_type": "code",
   "execution_count": 53,
   "id": "df43e0af",
   "metadata": {},
   "outputs": [
    {
     "data": {
      "text/html": [
       "<div>\n",
       "<style scoped>\n",
       "    .dataframe tbody tr th:only-of-type {\n",
       "        vertical-align: middle;\n",
       "    }\n",
       "\n",
       "    .dataframe tbody tr th {\n",
       "        vertical-align: top;\n",
       "    }\n",
       "\n",
       "    .dataframe thead th {\n",
       "        text-align: right;\n",
       "    }\n",
       "</style>\n",
       "<table border=\"1\" class=\"dataframe\">\n",
       "  <thead>\n",
       "    <tr style=\"text-align: right;\">\n",
       "      <th></th>\n",
       "      <th>Customer type</th>\n",
       "      <th>Quantity</th>\n",
       "    </tr>\n",
       "  </thead>\n",
       "  <tbody>\n",
       "    <tr>\n",
       "      <th>0</th>\n",
       "      <td>Member</td>\n",
       "      <td>5.538462</td>\n",
       "    </tr>\n",
       "    <tr>\n",
       "      <th>1</th>\n",
       "      <td>Normal</td>\n",
       "      <td>5.350598</td>\n",
       "    </tr>\n",
       "  </tbody>\n",
       "</table>\n",
       "</div>"
      ],
      "text/plain": [
       "  Customer type  Quantity\n",
       "0        Member  5.538462\n",
       "1        Normal  5.350598"
      ]
     },
     "execution_count": 53,
     "metadata": {},
     "output_type": "execute_result"
    }
   ],
   "source": [
    "sales.groupby(sales[\"Customer type\"])[\"Quantity\"].mean().reset_index()"
   ]
  },
  {
   "cell_type": "code",
   "execution_count": 54,
   "id": "1991ed25-93f0-42cb-b1ad-49c712cdc633",
   "metadata": {},
   "outputs": [
    {
     "data": {
      "text/html": [
       "<div>\n",
       "<style scoped>\n",
       "    .dataframe tbody tr th:only-of-type {\n",
       "        vertical-align: middle;\n",
       "    }\n",
       "\n",
       "    .dataframe tbody tr th {\n",
       "        vertical-align: top;\n",
       "    }\n",
       "\n",
       "    .dataframe thead th {\n",
       "        text-align: right;\n",
       "    }\n",
       "</style>\n",
       "<table border=\"1\" class=\"dataframe\">\n",
       "  <thead>\n",
       "    <tr style=\"text-align: right;\">\n",
       "      <th></th>\n",
       "      <th>Customer type</th>\n",
       "      <th>Total</th>\n",
       "    </tr>\n",
       "  </thead>\n",
       "  <tbody>\n",
       "    <tr>\n",
       "      <th>0</th>\n",
       "      <td>Member</td>\n",
       "      <td>324.188446</td>\n",
       "    </tr>\n",
       "    <tr>\n",
       "      <th>1</th>\n",
       "      <td>Normal</td>\n",
       "      <td>309.166058</td>\n",
       "    </tr>\n",
       "  </tbody>\n",
       "</table>\n",
       "</div>"
      ],
      "text/plain": [
       "  Customer type       Total\n",
       "0        Member  324.188446\n",
       "1        Normal  309.166058"
      ]
     },
     "execution_count": 54,
     "metadata": {},
     "output_type": "execute_result"
    }
   ],
   "source": [
    "sales.groupby(sales[\"Customer type\"])[\"Total\"].mean().reset_index()"
   ]
  },
  {
   "cell_type": "code",
   "execution_count": 55,
   "id": "5aa0c41d-6043-4e30-88ed-fc85b9c55e9e",
   "metadata": {},
   "outputs": [
    {
     "data": {
      "text/html": [
       "<div>\n",
       "<style scoped>\n",
       "    .dataframe tbody tr th:only-of-type {\n",
       "        vertical-align: middle;\n",
       "    }\n",
       "\n",
       "    .dataframe tbody tr th {\n",
       "        vertical-align: top;\n",
       "    }\n",
       "\n",
       "    .dataframe thead th {\n",
       "        text-align: right;\n",
       "    }\n",
       "</style>\n",
       "<table border=\"1\" class=\"dataframe\">\n",
       "  <thead>\n",
       "    <tr style=\"text-align: right;\">\n",
       "      <th></th>\n",
       "      <th>Customer type</th>\n",
       "      <th>Rating</th>\n",
       "    </tr>\n",
       "  </thead>\n",
       "  <tbody>\n",
       "    <tr>\n",
       "      <th>0</th>\n",
       "      <td>Member</td>\n",
       "      <td>6.943516</td>\n",
       "    </tr>\n",
       "    <tr>\n",
       "      <th>1</th>\n",
       "      <td>Normal</td>\n",
       "      <td>6.988153</td>\n",
       "    </tr>\n",
       "  </tbody>\n",
       "</table>\n",
       "</div>"
      ],
      "text/plain": [
       "  Customer type    Rating\n",
       "0        Member  6.943516\n",
       "1        Normal  6.988153"
      ]
     },
     "execution_count": 55,
     "metadata": {},
     "output_type": "execute_result"
    }
   ],
   "source": [
    "sales.groupby(sales[\"Customer type\"])[\"Rating\"].mean().reset_index()"
   ]
  },
  {
   "cell_type": "code",
   "execution_count": 56,
   "id": "dcae4e61-54b1-41a8-ab73-2abe4caaaaba",
   "metadata": {},
   "outputs": [
    {
     "data": {
      "text/html": [
       "<div>\n",
       "<style scoped>\n",
       "    .dataframe tbody tr th:only-of-type {\n",
       "        vertical-align: middle;\n",
       "    }\n",
       "\n",
       "    .dataframe tbody tr th {\n",
       "        vertical-align: top;\n",
       "    }\n",
       "\n",
       "    .dataframe thead th {\n",
       "        text-align: right;\n",
       "    }\n",
       "</style>\n",
       "<table border=\"1\" class=\"dataframe\">\n",
       "  <thead>\n",
       "    <tr style=\"text-align: right;\">\n",
       "      <th>Product line</th>\n",
       "      <th>Electronic accessories</th>\n",
       "      <th>Fashion accessories</th>\n",
       "      <th>Food and beverages</th>\n",
       "      <th>Health and beauty</th>\n",
       "      <th>Home and lifestyle</th>\n",
       "      <th>Sports and travel</th>\n",
       "    </tr>\n",
       "    <tr>\n",
       "      <th>Gender</th>\n",
       "      <th></th>\n",
       "      <th></th>\n",
       "      <th></th>\n",
       "      <th></th>\n",
       "      <th></th>\n",
       "      <th></th>\n",
       "    </tr>\n",
       "  </thead>\n",
       "  <tbody>\n",
       "    <tr>\n",
       "      <th>Female</th>\n",
       "      <td>76</td>\n",
       "      <td>87</td>\n",
       "      <td>82</td>\n",
       "      <td>57</td>\n",
       "      <td>72</td>\n",
       "      <td>82</td>\n",
       "    </tr>\n",
       "    <tr>\n",
       "      <th>Male</th>\n",
       "      <td>88</td>\n",
       "      <td>81</td>\n",
       "      <td>85</td>\n",
       "      <td>88</td>\n",
       "      <td>80</td>\n",
       "      <td>79</td>\n",
       "    </tr>\n",
       "  </tbody>\n",
       "</table>\n",
       "</div>"
      ],
      "text/plain": [
       "Product line  Electronic accessories  Fashion accessories  Food and beverages  \\\n",
       "Gender                                                                          \n",
       "Female                            76                   87                  82   \n",
       "Male                              88                   81                  85   \n",
       "\n",
       "Product line  Health and beauty  Home and lifestyle  Sports and travel  \n",
       "Gender                                                                  \n",
       "Female                       57                  72                 82  \n",
       "Male                         88                  80                 79  "
      ]
     },
     "execution_count": 56,
     "metadata": {},
     "output_type": "execute_result"
    }
   ],
   "source": [
    "pandas.pivot_table(data=sales,index=\"Gender\",columns=\"Product line\",aggfunc=\"size\",fill_value=0)"
   ]
  },
  {
   "cell_type": "code",
   "execution_count": 57,
   "id": "6973a2eb",
   "metadata": {},
   "outputs": [
    {
     "data": {
      "text/html": [
       "<div>\n",
       "<style scoped>\n",
       "    .dataframe tbody tr th:only-of-type {\n",
       "        vertical-align: middle;\n",
       "    }\n",
       "\n",
       "    .dataframe tbody tr th {\n",
       "        vertical-align: top;\n",
       "    }\n",
       "\n",
       "    .dataframe thead th {\n",
       "        text-align: right;\n",
       "    }\n",
       "</style>\n",
       "<table border=\"1\" class=\"dataframe\">\n",
       "  <thead>\n",
       "    <tr style=\"text-align: right;\">\n",
       "      <th>Payment</th>\n",
       "      <th>Cash</th>\n",
       "      <th>Credit card</th>\n",
       "      <th>Ewallet</th>\n",
       "    </tr>\n",
       "    <tr>\n",
       "      <th>Gender</th>\n",
       "      <th></th>\n",
       "      <th></th>\n",
       "      <th></th>\n",
       "    </tr>\n",
       "  </thead>\n",
       "  <tbody>\n",
       "    <tr>\n",
       "      <th>Female</th>\n",
       "      <td>164</td>\n",
       "      <td>152</td>\n",
       "      <td>140</td>\n",
       "    </tr>\n",
       "    <tr>\n",
       "      <th>Male</th>\n",
       "      <td>163</td>\n",
       "      <td>147</td>\n",
       "      <td>191</td>\n",
       "    </tr>\n",
       "  </tbody>\n",
       "</table>\n",
       "</div>"
      ],
      "text/plain": [
       "Payment  Cash  Credit card  Ewallet\n",
       "Gender                             \n",
       "Female    164          152      140\n",
       "Male      163          147      191"
      ]
     },
     "execution_count": 57,
     "metadata": {},
     "output_type": "execute_result"
    }
   ],
   "source": [
    "pandas.pivot_table(data=sales,index=\"Gender\",columns=\"Payment\",aggfunc=\"size\",fill_value=0)"
   ]
  },
  {
   "cell_type": "code",
   "execution_count": 58,
   "id": "954e0c2b-816e-462d-bc21-da84c86a64bf",
   "metadata": {},
   "outputs": [
    {
     "data": {
      "text/html": [
       "<div>\n",
       "<style scoped>\n",
       "    .dataframe tbody tr th:only-of-type {\n",
       "        vertical-align: middle;\n",
       "    }\n",
       "\n",
       "    .dataframe tbody tr th {\n",
       "        vertical-align: top;\n",
       "    }\n",
       "\n",
       "    .dataframe thead th {\n",
       "        text-align: right;\n",
       "    }\n",
       "</style>\n",
       "<table border=\"1\" class=\"dataframe\">\n",
       "  <thead>\n",
       "    <tr style=\"text-align: right;\">\n",
       "      <th></th>\n",
       "      <th>Gender</th>\n",
       "      <th>Quantity</th>\n",
       "    </tr>\n",
       "  </thead>\n",
       "  <tbody>\n",
       "    <tr>\n",
       "      <th>0</th>\n",
       "      <td>Female</td>\n",
       "      <td>5.692982</td>\n",
       "    </tr>\n",
       "    <tr>\n",
       "      <th>1</th>\n",
       "      <td>Male</td>\n",
       "      <td>5.209581</td>\n",
       "    </tr>\n",
       "  </tbody>\n",
       "</table>\n",
       "</div>"
      ],
      "text/plain": [
       "   Gender  Quantity\n",
       "0  Female  5.692982\n",
       "1    Male  5.209581"
      ]
     },
     "execution_count": 58,
     "metadata": {},
     "output_type": "execute_result"
    }
   ],
   "source": [
    "sales.groupby(sales[\"Gender\"])[\"Quantity\"].mean().reset_index()"
   ]
  },
  {
   "cell_type": "code",
   "execution_count": 59,
   "id": "1ae9376b",
   "metadata": {},
   "outputs": [
    {
     "data": {
      "text/html": [
       "<div>\n",
       "<style scoped>\n",
       "    .dataframe tbody tr th:only-of-type {\n",
       "        vertical-align: middle;\n",
       "    }\n",
       "\n",
       "    .dataframe tbody tr th {\n",
       "        vertical-align: top;\n",
       "    }\n",
       "\n",
       "    .dataframe thead th {\n",
       "        text-align: right;\n",
       "    }\n",
       "</style>\n",
       "<table border=\"1\" class=\"dataframe\">\n",
       "  <thead>\n",
       "    <tr style=\"text-align: right;\">\n",
       "      <th></th>\n",
       "      <th>Gender</th>\n",
       "      <th>Total</th>\n",
       "    </tr>\n",
       "  </thead>\n",
       "  <tbody>\n",
       "    <tr>\n",
       "      <th>0</th>\n",
       "      <td>Female</td>\n",
       "      <td>325.658513</td>\n",
       "    </tr>\n",
       "    <tr>\n",
       "      <th>1</th>\n",
       "      <td>Male</td>\n",
       "      <td>307.798048</td>\n",
       "    </tr>\n",
       "  </tbody>\n",
       "</table>\n",
       "</div>"
      ],
      "text/plain": [
       "   Gender       Total\n",
       "0  Female  325.658513\n",
       "1    Male  307.798048"
      ]
     },
     "execution_count": 59,
     "metadata": {},
     "output_type": "execute_result"
    }
   ],
   "source": [
    "sales.groupby(sales[\"Gender\"])[\"Total\"].mean().reset_index()"
   ]
  },
  {
   "cell_type": "code",
   "execution_count": 60,
   "id": "00c98ce8",
   "metadata": {},
   "outputs": [
    {
     "data": {
      "text/html": [
       "<div>\n",
       "<style scoped>\n",
       "    .dataframe tbody tr th:only-of-type {\n",
       "        vertical-align: middle;\n",
       "    }\n",
       "\n",
       "    .dataframe tbody tr th {\n",
       "        vertical-align: top;\n",
       "    }\n",
       "\n",
       "    .dataframe thead th {\n",
       "        text-align: right;\n",
       "    }\n",
       "</style>\n",
       "<table border=\"1\" class=\"dataframe\">\n",
       "  <thead>\n",
       "    <tr style=\"text-align: right;\">\n",
       "      <th></th>\n",
       "      <th>Gender</th>\n",
       "      <th>Rating</th>\n",
       "    </tr>\n",
       "  </thead>\n",
       "  <tbody>\n",
       "    <tr>\n",
       "      <th>0</th>\n",
       "      <td>Female</td>\n",
       "      <td>6.982237</td>\n",
       "    </tr>\n",
       "    <tr>\n",
       "      <th>1</th>\n",
       "      <td>Male</td>\n",
       "      <td>6.953</td>\n",
       "    </tr>\n",
       "  </tbody>\n",
       "</table>\n",
       "</div>"
      ],
      "text/plain": [
       "   Gender    Rating\n",
       "0  Female  6.982237\n",
       "1    Male     6.953"
      ]
     },
     "execution_count": 60,
     "metadata": {},
     "output_type": "execute_result"
    }
   ],
   "source": [
    "sales.groupby(sales[\"Gender\"])[\"Rating\"].mean().reset_index()"
   ]
  },
  {
   "cell_type": "code",
   "execution_count": 61,
   "id": "7f3a50b7-0adc-4b95-a2a2-5d0695be7688",
   "metadata": {},
   "outputs": [
    {
     "data": {
      "text/html": [
       "<div>\n",
       "<style scoped>\n",
       "    .dataframe tbody tr th:only-of-type {\n",
       "        vertical-align: middle;\n",
       "    }\n",
       "\n",
       "    .dataframe tbody tr th {\n",
       "        vertical-align: top;\n",
       "    }\n",
       "\n",
       "    .dataframe thead th {\n",
       "        text-align: right;\n",
       "    }\n",
       "</style>\n",
       "<table border=\"1\" class=\"dataframe\">\n",
       "  <thead>\n",
       "    <tr style=\"text-align: right;\">\n",
       "      <th></th>\n",
       "      <th>Product line</th>\n",
       "      <th>Unit price</th>\n",
       "    </tr>\n",
       "  </thead>\n",
       "  <tbody>\n",
       "    <tr>\n",
       "      <th>0</th>\n",
       "      <td>Electronic accessories</td>\n",
       "      <td>54.463537</td>\n",
       "    </tr>\n",
       "    <tr>\n",
       "      <th>1</th>\n",
       "      <td>Fashion accessories</td>\n",
       "      <td>57.023393</td>\n",
       "    </tr>\n",
       "    <tr>\n",
       "      <th>2</th>\n",
       "      <td>Food and beverages</td>\n",
       "      <td>55.937066</td>\n",
       "    </tr>\n",
       "    <tr>\n",
       "      <th>3</th>\n",
       "      <td>Health and beauty</td>\n",
       "      <td>55.103172</td>\n",
       "    </tr>\n",
       "    <tr>\n",
       "      <th>4</th>\n",
       "      <td>Home and lifestyle</td>\n",
       "      <td>54.436184</td>\n",
       "    </tr>\n",
       "    <tr>\n",
       "      <th>5</th>\n",
       "      <td>Sports and travel</td>\n",
       "      <td>57.087267</td>\n",
       "    </tr>\n",
       "  </tbody>\n",
       "</table>\n",
       "</div>"
      ],
      "text/plain": [
       "             Product line Unit price\n",
       "0  Electronic accessories  54.463537\n",
       "1     Fashion accessories  57.023393\n",
       "2      Food and beverages  55.937066\n",
       "3       Health and beauty  55.103172\n",
       "4      Home and lifestyle  54.436184\n",
       "5       Sports and travel  57.087267"
      ]
     },
     "execution_count": 61,
     "metadata": {},
     "output_type": "execute_result"
    }
   ],
   "source": [
    "sales.groupby(sales[\"Product line\"])[\"Unit price\"].mean().reset_index()"
   ]
  },
  {
   "cell_type": "code",
   "execution_count": 62,
   "id": "710295f8",
   "metadata": {},
   "outputs": [
    {
     "data": {
      "text/html": [
       "<div>\n",
       "<style scoped>\n",
       "    .dataframe tbody tr th:only-of-type {\n",
       "        vertical-align: middle;\n",
       "    }\n",
       "\n",
       "    .dataframe tbody tr th {\n",
       "        vertical-align: top;\n",
       "    }\n",
       "\n",
       "    .dataframe thead th {\n",
       "        text-align: right;\n",
       "    }\n",
       "</style>\n",
       "<table border=\"1\" class=\"dataframe\">\n",
       "  <thead>\n",
       "    <tr style=\"text-align: right;\">\n",
       "      <th></th>\n",
       "      <th>Product line</th>\n",
       "      <th>Quantity</th>\n",
       "    </tr>\n",
       "  </thead>\n",
       "  <tbody>\n",
       "    <tr>\n",
       "      <th>0</th>\n",
       "      <td>Electronic accessories</td>\n",
       "      <td>5.682927</td>\n",
       "    </tr>\n",
       "    <tr>\n",
       "      <th>1</th>\n",
       "      <td>Fashion accessories</td>\n",
       "      <td>4.952381</td>\n",
       "    </tr>\n",
       "    <tr>\n",
       "      <th>2</th>\n",
       "      <td>Food and beverages</td>\n",
       "      <td>5.39521</td>\n",
       "    </tr>\n",
       "    <tr>\n",
       "      <th>3</th>\n",
       "      <td>Health and beauty</td>\n",
       "      <td>5.6</td>\n",
       "    </tr>\n",
       "    <tr>\n",
       "      <th>4</th>\n",
       "      <td>Home and lifestyle</td>\n",
       "      <td>5.598684</td>\n",
       "    </tr>\n",
       "    <tr>\n",
       "      <th>5</th>\n",
       "      <td>Sports and travel</td>\n",
       "      <td>5.453416</td>\n",
       "    </tr>\n",
       "  </tbody>\n",
       "</table>\n",
       "</div>"
      ],
      "text/plain": [
       "             Product line  Quantity\n",
       "0  Electronic accessories  5.682927\n",
       "1     Fashion accessories  4.952381\n",
       "2      Food and beverages   5.39521\n",
       "3       Health and beauty       5.6\n",
       "4      Home and lifestyle  5.598684\n",
       "5       Sports and travel  5.453416"
      ]
     },
     "execution_count": 62,
     "metadata": {},
     "output_type": "execute_result"
    }
   ],
   "source": [
    "sales.groupby(sales[\"Product line\"])[\"Quantity\"].mean().reset_index()"
   ]
  },
  {
   "cell_type": "code",
   "execution_count": 63,
   "id": "b4ca0056",
   "metadata": {},
   "outputs": [
    {
     "data": {
      "text/html": [
       "<div>\n",
       "<style scoped>\n",
       "    .dataframe tbody tr th:only-of-type {\n",
       "        vertical-align: middle;\n",
       "    }\n",
       "\n",
       "    .dataframe tbody tr th {\n",
       "        vertical-align: top;\n",
       "    }\n",
       "\n",
       "    .dataframe thead th {\n",
       "        text-align: right;\n",
       "    }\n",
       "</style>\n",
       "<table border=\"1\" class=\"dataframe\">\n",
       "  <thead>\n",
       "    <tr style=\"text-align: right;\">\n",
       "      <th></th>\n",
       "      <th>Product line</th>\n",
       "      <th>Total</th>\n",
       "    </tr>\n",
       "  </thead>\n",
       "  <tbody>\n",
       "    <tr>\n",
       "      <th>0</th>\n",
       "      <td>Electronic accessories</td>\n",
       "      <td>323.577155</td>\n",
       "    </tr>\n",
       "    <tr>\n",
       "      <th>1</th>\n",
       "      <td>Fashion accessories</td>\n",
       "      <td>290.94625</td>\n",
       "    </tr>\n",
       "    <tr>\n",
       "      <th>2</th>\n",
       "      <td>Food and beverages</td>\n",
       "      <td>316.396877</td>\n",
       "    </tr>\n",
       "    <tr>\n",
       "      <th>3</th>\n",
       "      <td>Health and beauty</td>\n",
       "      <td>323.048648</td>\n",
       "    </tr>\n",
       "    <tr>\n",
       "      <th>4</th>\n",
       "      <td>Home and lifestyle</td>\n",
       "      <td>319.420224</td>\n",
       "    </tr>\n",
       "    <tr>\n",
       "      <th>5</th>\n",
       "      <td>Sports and travel</td>\n",
       "      <td>326.268783</td>\n",
       "    </tr>\n",
       "  </tbody>\n",
       "</table>\n",
       "</div>"
      ],
      "text/plain": [
       "             Product line       Total\n",
       "0  Electronic accessories  323.577155\n",
       "1     Fashion accessories   290.94625\n",
       "2      Food and beverages  316.396877\n",
       "3       Health and beauty  323.048648\n",
       "4      Home and lifestyle  319.420224\n",
       "5       Sports and travel  326.268783"
      ]
     },
     "execution_count": 63,
     "metadata": {},
     "output_type": "execute_result"
    }
   ],
   "source": [
    "sales.groupby(sales[\"Product line\"])[\"Total\"].mean().reset_index()"
   ]
  },
  {
   "cell_type": "code",
   "execution_count": 64,
   "id": "2134ba89",
   "metadata": {},
   "outputs": [
    {
     "data": {
      "text/html": [
       "<div>\n",
       "<style scoped>\n",
       "    .dataframe tbody tr th:only-of-type {\n",
       "        vertical-align: middle;\n",
       "    }\n",
       "\n",
       "    .dataframe tbody tr th {\n",
       "        vertical-align: top;\n",
       "    }\n",
       "\n",
       "    .dataframe thead th {\n",
       "        text-align: right;\n",
       "    }\n",
       "</style>\n",
       "<table border=\"1\" class=\"dataframe\">\n",
       "  <thead>\n",
       "    <tr style=\"text-align: right;\">\n",
       "      <th></th>\n",
       "      <th>Product line</th>\n",
       "      <th>Rating</th>\n",
       "    </tr>\n",
       "  </thead>\n",
       "  <tbody>\n",
       "    <tr>\n",
       "      <th>0</th>\n",
       "      <td>Electronic accessories</td>\n",
       "      <td>6.92439</td>\n",
       "    </tr>\n",
       "    <tr>\n",
       "      <th>1</th>\n",
       "      <td>Fashion accessories</td>\n",
       "      <td>6.983333</td>\n",
       "    </tr>\n",
       "    <tr>\n",
       "      <th>2</th>\n",
       "      <td>Food and beverages</td>\n",
       "      <td>7.122156</td>\n",
       "    </tr>\n",
       "    <tr>\n",
       "      <th>3</th>\n",
       "      <td>Health and beauty</td>\n",
       "      <td>7.011724</td>\n",
       "    </tr>\n",
       "    <tr>\n",
       "      <th>4</th>\n",
       "      <td>Home and lifestyle</td>\n",
       "      <td>6.872059</td>\n",
       "    </tr>\n",
       "    <tr>\n",
       "      <th>5</th>\n",
       "      <td>Sports and travel</td>\n",
       "      <td>6.881366</td>\n",
       "    </tr>\n",
       "  </tbody>\n",
       "</table>\n",
       "</div>"
      ],
      "text/plain": [
       "             Product line    Rating\n",
       "0  Electronic accessories   6.92439\n",
       "1     Fashion accessories  6.983333\n",
       "2      Food and beverages  7.122156\n",
       "3       Health and beauty  7.011724\n",
       "4      Home and lifestyle  6.872059\n",
       "5       Sports and travel  6.881366"
      ]
     },
     "execution_count": 64,
     "metadata": {},
     "output_type": "execute_result"
    }
   ],
   "source": [
    "sales.groupby(sales[\"Product line\"])[\"Rating\"].mean().reset_index()"
   ]
  },
  {
   "cell_type": "code",
   "execution_count": 65,
   "id": "21dfc275",
   "metadata": {},
   "outputs": [
    {
     "data": {
      "text/html": [
       "<div>\n",
       "<style scoped>\n",
       "    .dataframe tbody tr th:only-of-type {\n",
       "        vertical-align: middle;\n",
       "    }\n",
       "\n",
       "    .dataframe tbody tr th {\n",
       "        vertical-align: top;\n",
       "    }\n",
       "\n",
       "    .dataframe thead th {\n",
       "        text-align: right;\n",
       "    }\n",
       "</style>\n",
       "<table border=\"1\" class=\"dataframe\">\n",
       "  <thead>\n",
       "    <tr style=\"text-align: right;\">\n",
       "      <th>Payment</th>\n",
       "      <th>Cash</th>\n",
       "      <th>Credit card</th>\n",
       "      <th>Ewallet</th>\n",
       "    </tr>\n",
       "    <tr>\n",
       "      <th>Product line</th>\n",
       "      <th></th>\n",
       "      <th></th>\n",
       "      <th></th>\n",
       "    </tr>\n",
       "  </thead>\n",
       "  <tbody>\n",
       "    <tr>\n",
       "      <th>Electronic accessories</th>\n",
       "      <td>66</td>\n",
       "      <td>45</td>\n",
       "      <td>53</td>\n",
       "    </tr>\n",
       "    <tr>\n",
       "      <th>Fashion accessories</th>\n",
       "      <td>56</td>\n",
       "      <td>50</td>\n",
       "      <td>62</td>\n",
       "    </tr>\n",
       "    <tr>\n",
       "      <th>Food and beverages</th>\n",
       "      <td>54</td>\n",
       "      <td>60</td>\n",
       "      <td>53</td>\n",
       "    </tr>\n",
       "    <tr>\n",
       "      <th>Health and beauty</th>\n",
       "      <td>46</td>\n",
       "      <td>49</td>\n",
       "      <td>50</td>\n",
       "    </tr>\n",
       "    <tr>\n",
       "      <th>Home and lifestyle</th>\n",
       "      <td>48</td>\n",
       "      <td>44</td>\n",
       "      <td>60</td>\n",
       "    </tr>\n",
       "    <tr>\n",
       "      <th>Sports and travel</th>\n",
       "      <td>57</td>\n",
       "      <td>51</td>\n",
       "      <td>53</td>\n",
       "    </tr>\n",
       "  </tbody>\n",
       "</table>\n",
       "</div>"
      ],
      "text/plain": [
       "Payment                 Cash  Credit card  Ewallet\n",
       "Product line                                      \n",
       "Electronic accessories    66           45       53\n",
       "Fashion accessories       56           50       62\n",
       "Food and beverages        54           60       53\n",
       "Health and beauty         46           49       50\n",
       "Home and lifestyle        48           44       60\n",
       "Sports and travel         57           51       53"
      ]
     },
     "execution_count": 65,
     "metadata": {},
     "output_type": "execute_result"
    }
   ],
   "source": [
    "pandas.pivot_table(data=sales,index=\"Product line\",columns=\"Payment\",aggfunc=\"size\",fill_value=0)"
   ]
  },
  {
   "cell_type": "code",
   "execution_count": 66,
   "id": "da3ce6bc",
   "metadata": {},
   "outputs": [
    {
     "data": {
      "text/html": [
       "<div>\n",
       "<style scoped>\n",
       "    .dataframe tbody tr th:only-of-type {\n",
       "        vertical-align: middle;\n",
       "    }\n",
       "\n",
       "    .dataframe tbody tr th {\n",
       "        vertical-align: top;\n",
       "    }\n",
       "\n",
       "    .dataframe thead th {\n",
       "        text-align: right;\n",
       "    }\n",
       "</style>\n",
       "<table border=\"1\" class=\"dataframe\">\n",
       "  <thead>\n",
       "    <tr style=\"text-align: right;\">\n",
       "      <th></th>\n",
       "      <th>Payment</th>\n",
       "      <th>Total</th>\n",
       "    </tr>\n",
       "  </thead>\n",
       "  <tbody>\n",
       "    <tr>\n",
       "      <th>0</th>\n",
       "      <td>Cash</td>\n",
       "      <td>321.781298</td>\n",
       "    </tr>\n",
       "    <tr>\n",
       "      <th>1</th>\n",
       "      <td>Credit card</td>\n",
       "      <td>316.686216</td>\n",
       "    </tr>\n",
       "    <tr>\n",
       "      <th>2</th>\n",
       "      <td>Ewallet</td>\n",
       "      <td>310.560245</td>\n",
       "    </tr>\n",
       "  </tbody>\n",
       "</table>\n",
       "</div>"
      ],
      "text/plain": [
       "       Payment       Total\n",
       "0         Cash  321.781298\n",
       "1  Credit card  316.686216\n",
       "2      Ewallet  310.560245"
      ]
     },
     "execution_count": 66,
     "metadata": {},
     "output_type": "execute_result"
    }
   ],
   "source": [
    "sales.groupby(sales[\"Payment\"])[\"Total\"].mean().reset_index()"
   ]
  },
  {
   "cell_type": "code",
   "execution_count": 67,
   "id": "d2032c58",
   "metadata": {},
   "outputs": [
    {
     "data": {
      "text/html": [
       "<div>\n",
       "<style scoped>\n",
       "    .dataframe tbody tr th:only-of-type {\n",
       "        vertical-align: middle;\n",
       "    }\n",
       "\n",
       "    .dataframe tbody tr th {\n",
       "        vertical-align: top;\n",
       "    }\n",
       "\n",
       "    .dataframe thead th {\n",
       "        text-align: right;\n",
       "    }\n",
       "</style>\n",
       "<table border=\"1\" class=\"dataframe\">\n",
       "  <thead>\n",
       "    <tr style=\"text-align: right;\">\n",
       "      <th></th>\n",
       "      <th>Payment</th>\n",
       "      <th>Rating</th>\n",
       "    </tr>\n",
       "  </thead>\n",
       "  <tbody>\n",
       "    <tr>\n",
       "      <th>0</th>\n",
       "      <td>Cash</td>\n",
       "      <td>6.993578</td>\n",
       "    </tr>\n",
       "    <tr>\n",
       "      <th>1</th>\n",
       "      <td>Credit card</td>\n",
       "      <td>6.958528</td>\n",
       "    </tr>\n",
       "    <tr>\n",
       "      <th>2</th>\n",
       "      <td>Ewallet</td>\n",
       "      <td>6.948196</td>\n",
       "    </tr>\n",
       "  </tbody>\n",
       "</table>\n",
       "</div>"
      ],
      "text/plain": [
       "       Payment    Rating\n",
       "0         Cash  6.993578\n",
       "1  Credit card  6.958528\n",
       "2      Ewallet  6.948196"
      ]
     },
     "execution_count": 67,
     "metadata": {},
     "output_type": "execute_result"
    }
   ],
   "source": [
    "sales.groupby(sales[\"Payment\"])[\"Rating\"].mean().reset_index()"
   ]
  },
  {
   "cell_type": "code",
   "execution_count": 68,
   "id": "de193699-bd75-4df4-8991-3495917bb05b",
   "metadata": {},
   "outputs": [],
   "source": [
    "sales.to_csv(\"/home/hussein-ali/Documents/eCODE/Supermarket Sales/data/CLEANSALES.CSV\")"
   ]
  },
  {
   "cell_type": "code",
   "execution_count": null,
   "id": "b59db7e9-29b8-4e73-963e-81f9e1fd9f37",
   "metadata": {},
   "outputs": [],
   "source": []
  }
 ],
 "metadata": {
  "kernelspec": {
   "display_name": "Python 3 (ipykernel)",
   "language": "python",
   "name": "python3"
  },
  "language_info": {
   "codemirror_mode": {
    "name": "ipython",
    "version": 3
   },
   "file_extension": ".py",
   "mimetype": "text/x-python",
   "name": "python",
   "nbconvert_exporter": "python",
   "pygments_lexer": "ipython3",
   "version": "3.13.3"
  }
 },
 "nbformat": 4,
 "nbformat_minor": 5
}
